{
  "nbformat": 4,
  "nbformat_minor": 0,
  "metadata": {
    "colab": {
      "name": "Prueba_clase_1.ipynb",
      "provenance": [],
      "history_visible": true,
      "authorship_tag": "ABX9TyPBGZyNzG3fYh/3NQ+vBrzx",
      "include_colab_link": true
    },
    "kernelspec": {
      "name": "python3",
      "display_name": "Python 3"
    },
    "language_info": {
      "name": "python"
    },
    "gpuClass": "standard"
  },
  "cells": [
    {
      "cell_type": "markdown",
      "metadata": {
        "id": "view-in-github",
        "colab_type": "text"
      },
      "source": [
        "<a href=\"https://colab.research.google.com/github/cdaga/Phyton/blob/main/Primera_Clase/Prueba_clase_1.ipynb\" target=\"_parent\"><img src=\"https://colab.research.google.com/assets/colab-badge.svg\" alt=\"Open In Colab\"/></a>"
      ]
    },
    {
      "cell_type": "code",
      "execution_count": null,
      "metadata": {
        "id": "eV1sWCMUNpBj",
        "colab": {
          "base_uri": "https://localhost:8080/"
        },
        "outputId": "665931c6-4874-4399-e0a3-d21e2901f555"
      },
      "outputs": [
        {
          "output_type": "execute_result",
          "data": {
            "text/plain": [
              "-50"
            ]
          },
          "metadata": {},
          "execution_count": 2
        }
      ],
      "source": [
        "(10+10)-70"
      ]
    }
  ]
}
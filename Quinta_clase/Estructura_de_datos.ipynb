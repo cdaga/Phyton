{
  "nbformat": 4,
  "nbformat_minor": 0,
  "metadata": {
    "colab": {
      "name": "modulo 4.ipynb",
      "provenance": [],
      "include_colab_link": true
    },
    "kernelspec": {
      "name": "python3",
      "display_name": "Python 3"
    },
    "language_info": {
      "name": "python"
    }
  },
  "cells": [
    {
      "cell_type": "markdown",
      "metadata": {
        "id": "view-in-github",
        "colab_type": "text"
      },
      "source": [
        "<a href=\"https://colab.research.google.com/github/cdaga/Phyton/blob/main/Quinta_clase/Estructura_de_datos.ipynb\" target=\"_parent\"><img src=\"https://colab.research.google.com/assets/colab-badge.svg\" alt=\"Open In Colab\"/></a>"
      ]
    },
    {
      "cell_type": "markdown",
      "source": [
        "<img src=\"https://www.ctic.uni.edu.pe/wp-content/uploads/2022/04/588px-x-348px-web-1.png\" alt=\"HTML5 Icon\" width=\"900\" height=\"350\" >"
      ],
      "metadata": {
        "id": "atsxxNXNyS0i"
      }
    },
    {
      "cell_type": "markdown",
      "source": [
        "<h1 align=center><font size = 5>UNIDAD IV - ESTRUCTURAS DE DATOS\n",
        "</font></h1>\n",
        "\n",
        "---"
      ],
      "metadata": {
        "id": "4p5vLlhHyXK5"
      }
    },
    {
      "cell_type": "markdown",
      "source": [
        "## Tabla de Contenidos\n",
        "\n",
        "<div class=\"alert alert-block alert-info\" style=\"margin-top: 20px\">\n",
        "\n",
        "<font size = 3>\n",
        "    \n",
        "1. <a href=\"#item31\">Trabajando con Listas numéricas</a>\n",
        "2. <a href=\"#item31\">Trabajando con slices</a>  \n",
        "3. <a href=\"#item31\">Tuplas</a>  \n",
        "4. <a href=\"#item31\">Diccionarios</a>  \n",
        "\n",
        "</font>\n",
        "</div>\n",
        "\n",
        "---"
      ],
      "metadata": {
        "id": "y0BfNj-RyguL"
      }
    },
    {
      "cell_type": "markdown",
      "source": [
        "# 1. Trabajando con Listas numéricas"
      ],
      "metadata": {
        "id": "fY5fHyw61UB5"
      }
    },
    {
      "cell_type": "code",
      "execution_count": 1,
      "metadata": {
        "id": "A2OxEnshtGJD"
      },
      "outputs": [],
      "source": [
        "numeros = [1, 2, 3, 4, 5]"
      ]
    },
    {
      "cell_type": "code",
      "source": [
        "numeros"
      ],
      "metadata": {
        "id": "BusmC4LB1gI8",
        "outputId": "b902bbd0-4675-476c-b814-e69f05fdec53",
        "colab": {
          "base_uri": "https://localhost:8080/"
        }
      },
      "execution_count": 2,
      "outputs": [
        {
          "output_type": "execute_result",
          "data": {
            "text/plain": [
              "[1, 2, 3, 4, 5]"
            ]
          },
          "metadata": {},
          "execution_count": 2
        }
      ]
    },
    {
      "cell_type": "markdown",
      "source": [
        "### Usando la función rango"
      ],
      "metadata": {
        "id": "0GbfBGic15oY"
      }
    },
    {
      "cell_type": "code",
      "source": [
        "range(1, 5)"
      ],
      "metadata": {
        "id": "0CtByQBZ2A3Z",
        "outputId": "fc65e189-b33d-400a-eb88-179ca69fd818",
        "colab": {
          "base_uri": "https://localhost:8080/"
        }
      },
      "execution_count": 3,
      "outputs": [
        {
          "output_type": "execute_result",
          "data": {
            "text/plain": [
              "range(1, 5)"
            ]
          },
          "metadata": {},
          "execution_count": 3
        }
      ]
    },
    {
      "cell_type": "code",
      "source": [
        "for value in range(1, 5):\n",
        "    print(value)"
      ],
      "metadata": {
        "id": "HluipgiKyPn4",
        "outputId": "866fe48a-7209-4885-a51a-28b193ca0bf7",
        "colab": {
          "base_uri": "https://localhost:8080/"
        }
      },
      "execution_count": 4,
      "outputs": [
        {
          "output_type": "stream",
          "name": "stdout",
          "text": [
            "1\n",
            "2\n",
            "3\n",
            "4\n"
          ]
        }
      ]
    },
    {
      "cell_type": "code",
      "source": [
        "for value in range(-1, -6,-1):\n",
        "    print(value)"
      ],
      "metadata": {
        "id": "gPtNEJGW2Jvo",
        "outputId": "c40b1c2c-ac55-406c-fccf-5fb8b403e99c",
        "colab": {
          "base_uri": "https://localhost:8080/"
        }
      },
      "execution_count": 11,
      "outputs": [
        {
          "output_type": "stream",
          "name": "stdout",
          "text": [
            "-1\n",
            "-2\n",
            "-3\n",
            "-4\n",
            "-5\n"
          ]
        }
      ]
    },
    {
      "cell_type": "markdown",
      "source": [
        "### Usando range para crear listas de números"
      ],
      "metadata": {
        "id": "KKwKZnLy2XpE"
      }
    },
    {
      "cell_type": "code",
      "source": [
        "numbers = list(range(1, 6))\n",
        "print(numbers)"
      ],
      "metadata": {
        "id": "UBobqcAl2bLs"
      },
      "execution_count": null,
      "outputs": []
    },
    {
      "cell_type": "code",
      "source": [
        "even_numbers = list(range(2, 11, 2))\n",
        "print(even_numbers)"
      ],
      "metadata": {
        "id": "q0peFV6_2iqr"
      },
      "execution_count": null,
      "outputs": []
    },
    {
      "cell_type": "code",
      "source": [
        "squares = []\n",
        "\n",
        "for value in range(1, 11):\n",
        "    square = value ** 2\n",
        "    squares.append(square)\n",
        "    \n",
        "print(squares)"
      ],
      "metadata": {
        "id": "B9Hv0maM2mnU",
        "outputId": "28ab6deb-7adc-460d-ed92-ef03205c2f52",
        "colab": {
          "base_uri": "https://localhost:8080/"
        }
      },
      "execution_count": 14,
      "outputs": [
        {
          "output_type": "stream",
          "name": "stdout",
          "text": [
            "[1, 4, 9, 16, 25, 36, 49, 64, 81, 100]\n"
          ]
        }
      ]
    },
    {
      "cell_type": "code",
      "source": [
        "squares = []\n",
        "\n",
        "for value in range(1,11):\n",
        "    squares.append(value**2)\n",
        "    \n",
        "print(squares)"
      ],
      "metadata": {
        "id": "nIx-oVSe273S",
        "outputId": "1416aaa0-f323-4caa-c1fb-b348f5160e38",
        "colab": {
          "base_uri": "https://localhost:8080/"
        }
      },
      "execution_count": 13,
      "outputs": [
        {
          "output_type": "stream",
          "name": "stdout",
          "text": [
            "[1, 4, 9, 16, 25, 36, 49, 64, 81, 100]\n"
          ]
        }
      ]
    },
    {
      "cell_type": "markdown",
      "source": [
        "### Estadísticos sencillos de listas"
      ],
      "metadata": {
        "id": "UnVQ75Gz3GkM"
      }
    },
    {
      "cell_type": "code",
      "source": [
        "digits = [1, 2, 3, 4, 5, 6, 7, 8, 9, 0]"
      ],
      "metadata": {
        "id": "HcLwRAdU3Jy8"
      },
      "execution_count": 16,
      "outputs": []
    },
    {
      "cell_type": "code",
      "source": [
        "min(digits)"
      ],
      "metadata": {
        "id": "arSK6kOr3Nwg",
        "outputId": "76586480-ce50-41f5-e22d-00f7f7cf95d8",
        "colab": {
          "base_uri": "https://localhost:8080/"
        }
      },
      "execution_count": 17,
      "outputs": [
        {
          "output_type": "execute_result",
          "data": {
            "text/plain": [
              "0"
            ]
          },
          "metadata": {},
          "execution_count": 17
        }
      ]
    },
    {
      "cell_type": "code",
      "source": [
        "max(digits)"
      ],
      "metadata": {
        "id": "z13AFiLo3Pyr",
        "outputId": "0c3ee5a4-d2ea-4703-9210-01e010b6084c",
        "colab": {
          "base_uri": "https://localhost:8080/"
        }
      },
      "execution_count": 18,
      "outputs": [
        {
          "output_type": "execute_result",
          "data": {
            "text/plain": [
              "9"
            ]
          },
          "metadata": {},
          "execution_count": 18
        }
      ]
    },
    {
      "cell_type": "code",
      "source": [
        "sum(digits)"
      ],
      "metadata": {
        "id": "VE_QfNBq3SIY",
        "outputId": "f5ecb2ad-3014-4fd1-9830-d919320c4813",
        "colab": {
          "base_uri": "https://localhost:8080/"
        }
      },
      "execution_count": 19,
      "outputs": [
        {
          "output_type": "execute_result",
          "data": {
            "text/plain": [
              "45"
            ]
          },
          "metadata": {},
          "execution_count": 19
        }
      ]
    },
    {
      "cell_type": "markdown",
      "source": [
        "### List Comprehensions\n"
      ],
      "metadata": {
        "id": "H68897kt3Xan"
      }
    },
    {
      "cell_type": "code",
      "source": [
        "squares = [value**2 for value in range(1, 11)]\n",
        "print(squares)"
      ],
      "metadata": {
        "id": "1iXCqqK43Yrq",
        "outputId": "37f477c7-8fda-470c-e92a-29cf509d9b1f",
        "colab": {
          "base_uri": "https://localhost:8080/"
        }
      },
      "execution_count": 20,
      "outputs": [
        {
          "output_type": "stream",
          "name": "stdout",
          "text": [
            "[1, 4, 9, 16, 25, 36, 49, 64, 81, 100]\n"
          ]
        }
      ]
    },
    {
      "cell_type": "markdown",
      "source": [
        "---\n",
        "\n",
        "<b> Ejercicio 1</b>\n",
        "\n",
        "use un bucle **for** para imprimir los números del 1 al 20, inclusive.\n"
      ],
      "metadata": {
        "id": "v8l2iiax3w6L"
      }
    },
    {
      "cell_type": "code",
      "source": [
        "result = [value for value in range(1,21)]\n",
        "print(result)"
      ],
      "metadata": {
        "id": "6k_oM5lDhZrX",
        "outputId": "8143ddef-169b-4503-d46b-a66e257c4de7",
        "colab": {
          "base_uri": "https://localhost:8080/"
        }
      },
      "execution_count": 22,
      "outputs": [
        {
          "output_type": "stream",
          "name": "stdout",
          "text": [
            "[1, 2, 3, 4, 5, 6, 7, 8, 9, 10, 11, 12, 13, 14, 15, 16, 17, 18, 19, 20]\n"
          ]
        }
      ]
    },
    {
      "cell_type": "markdown",
      "source": [
        "---\n",
        "\n",
        "<b> Ejercicio 2</b>\n",
        "\n",
        "Haga una lista de los números del uno al millón y luego use un ciclo for para imprimir los números. (Si la salida tarda demasiado, deténgala presionando CTRL-C o cerrando la ventana de salida).\n"
      ],
      "metadata": {
        "id": "rYzzJUd64HR1"
      }
    },
    {
      "cell_type": "code",
      "source": [
        "lista = list(range(1,101))\n",
        "for val in lista:\n",
        "  print(val)\n",
        "\n",
        "\n"
      ],
      "metadata": {
        "id": "NfDMWVNAiZm3"
      },
      "execution_count": null,
      "outputs": []
    },
    {
      "cell_type": "markdown",
      "source": [
        "---\n",
        "\n",
        "<b> Ejercicio 3</b>\n",
        "\n",
        "Haga una lista de los números del uno al millón y luego use min() y max() para asegurarse de que su lista realmente comience en uno y termine en un millón. Además, use la función sum() para ver qué tan rápido Python puede agregar un millón de números.\n"
      ],
      "metadata": {
        "id": "2qrKdPpb4chR"
      }
    },
    {
      "cell_type": "code",
      "source": [
        "numeros = list(range(1,1000001))\n"
      ],
      "metadata": {
        "id": "MFVMJfFLkn0z"
      },
      "execution_count": 42,
      "outputs": []
    },
    {
      "cell_type": "code",
      "source": [
        "min(numeros)\n",
        "max(numeros)\n",
        "sum(numeros)"
      ],
      "metadata": {
        "id": "uX-dX7GZkzyi",
        "outputId": "3b6a9431-da4c-4a21-f1e7-fd13e2cb73e5",
        "colab": {
          "base_uri": "https://localhost:8080/"
        }
      },
      "execution_count": 43,
      "outputs": [
        {
          "output_type": "execute_result",
          "data": {
            "text/plain": [
              "500000500000"
            ]
          },
          "metadata": {},
          "execution_count": 43
        }
      ]
    },
    {
      "cell_type": "markdown",
      "source": [
        "---\n",
        "\n",
        "<b> Ejercicio 4</b>\n",
        "\n",
        "Use el tercer argumento de la función range() para hacer una lista de los números impares del 1 al 20. Use un bucle for para imprimir cada número.\n"
      ],
      "metadata": {
        "id": "oizdiWqQ44qx"
      }
    },
    {
      "cell_type": "code",
      "source": [
        "numeros = list(range(1,21,2))\n",
        "for num in numeros:\n",
        "  print(num)"
      ],
      "metadata": {
        "id": "eWRU6haxmDp-",
        "outputId": "b2e46451-fda2-40b8-d5b7-65bd21b59c59",
        "colab": {
          "base_uri": "https://localhost:8080/"
        }
      },
      "execution_count": 45,
      "outputs": [
        {
          "output_type": "stream",
          "name": "stdout",
          "text": [
            "1\n",
            "3\n",
            "5\n",
            "7\n",
            "9\n",
            "11\n",
            "13\n",
            "15\n",
            "17\n",
            "19\n"
          ]
        }
      ]
    },
    {
      "cell_type": "markdown",
      "source": [
        "---\n",
        "\n",
        "<b> Ejercicio 5</b>\n",
        "\n",
        "Haga una lista de los múltiplos de 3 de 3 a 30. Use un ciclo for para imprimir los números en su lista.\n"
      ],
      "metadata": {
        "id": "yK9dmJJi5W6W"
      }
    },
    {
      "cell_type": "code",
      "source": [
        "numeros = list(range(3,31,3))"
      ],
      "metadata": {
        "id": "Ks-XtFiTnLQM"
      },
      "execution_count": 50,
      "outputs": []
    },
    {
      "cell_type": "code",
      "source": [
        "\"\"\"for num in numeros:\n",
        "    print(num)\"\"\"\n",
        "\n",
        "for i in range(1,31):\n",
        "  if i%3==0:\n",
        "    print(i)\n",
        "  else:\n",
        "    continue\n"
      ],
      "metadata": {
        "id": "k_ms1YqPnYo5",
        "outputId": "4cc4bb19-453d-4a90-e515-82250b87a307",
        "colab": {
          "base_uri": "https://localhost:8080/"
        }
      },
      "execution_count": 53,
      "outputs": [
        {
          "output_type": "stream",
          "name": "stdout",
          "text": [
            "3\n",
            "6\n",
            "9\n",
            "12\n",
            "15\n",
            "18\n",
            "21\n",
            "24\n",
            "27\n",
            "30\n"
          ]
        }
      ]
    },
    {
      "cell_type": "markdown",
      "source": [
        "---\n",
        "\n",
        "<b> Ejercicio 6</b>\n",
        "\n",
        "Haga una lista de los primeros 10 cubos (es decir, el cubo de cada número entero del 1 al 10) y use un ciclo for para imprimir el valor de cada cubo.\n"
      ],
      "metadata": {
        "id": "qqdPT25k5d23"
      }
    },
    {
      "cell_type": "code",
      "source": [
        "cubos = list(range(1,11))"
      ],
      "metadata": {
        "id": "JhnhJ5KTonCp"
      },
      "execution_count": 54,
      "outputs": []
    },
    {
      "cell_type": "code",
      "source": [
        "for cub in range(1,11):\n",
        "  print(cub**3)"
      ],
      "metadata": {
        "id": "dVsbvJS0owgr",
        "outputId": "68c35b7b-0a64-48ec-bae8-a61f37ce6d12",
        "colab": {
          "base_uri": "https://localhost:8080/"
        }
      },
      "execution_count": 59,
      "outputs": [
        {
          "output_type": "stream",
          "name": "stdout",
          "text": [
            "1\n",
            "8\n",
            "27\n",
            "64\n",
            "125\n",
            "216\n",
            "343\n",
            "512\n",
            "729\n",
            "1000\n"
          ]
        }
      ]
    },
    {
      "cell_type": "markdown",
      "source": [
        "---\n",
        "\n",
        "<b> Ejercicio 7</b>\n",
        "\n",
        "Use una lista de comprensión para generar una lista de los primeros 10 cubos.\n",
        "\n",
        "---"
      ],
      "metadata": {
        "id": "MQfhaTOo59GS"
      }
    },
    {
      "cell_type": "code",
      "source": [
        "num = [value**3 for value in range(1, 11)]\n",
        "print(num)"
      ],
      "metadata": {
        "id": "Jisj-TtPp9Lg",
        "outputId": "0fecb436-d437-4aef-fe3b-c1c2cdb8bfdd",
        "colab": {
          "base_uri": "https://localhost:8080/"
        }
      },
      "execution_count": 57,
      "outputs": [
        {
          "output_type": "stream",
          "name": "stdout",
          "text": [
            "[1, 8, 27, 64, 125, 216, 343, 512, 729, 1000]\n"
          ]
        }
      ]
    },
    {
      "cell_type": "markdown",
      "source": [
        "# 2. Trabajando con slices"
      ],
      "metadata": {
        "id": "-h_22RYJ6U9R"
      }
    },
    {
      "cell_type": "markdown",
      "source": [
        "### Slice"
      ],
      "metadata": {
        "id": "pEWaaEih67Yz"
      }
    },
    {
      "cell_type": "code",
      "source": [
        "players = ['chales', 'martina', 'michael', 'florence', 'eli']\n",
        "print(players[2:])\n"
      ],
      "metadata": {
        "id": "OaraZKkC41r_",
        "outputId": "f72db15d-fa59-4210-b8c6-ca5dd3c84531",
        "colab": {
          "base_uri": "https://localhost:8080/"
        }
      },
      "execution_count": 64,
      "outputs": [
        {
          "output_type": "stream",
          "name": "stdout",
          "text": [
            "['michael', 'florence', 'eli']\n"
          ]
        }
      ]
    },
    {
      "cell_type": "code",
      "source": [
        "print(players[1:4])"
      ],
      "metadata": {
        "id": "rsh7DhJd7Zek"
      },
      "execution_count": null,
      "outputs": []
    },
    {
      "cell_type": "code",
      "source": [
        "print(players[:4])"
      ],
      "metadata": {
        "id": "PcO-p-IS7cs4"
      },
      "execution_count": null,
      "outputs": []
    },
    {
      "cell_type": "code",
      "source": [
        "print(players[2:])"
      ],
      "metadata": {
        "id": "eFiNncoN7gej"
      },
      "execution_count": null,
      "outputs": []
    },
    {
      "cell_type": "code",
      "source": [
        "print(players[-3:])"
      ],
      "metadata": {
        "id": "JjOgBbXy7krV",
        "outputId": "fa7b9a62-1d20-4e5a-88ac-ba2208e87d05",
        "colab": {
          "base_uri": "https://localhost:8080/"
        }
      },
      "execution_count": 65,
      "outputs": [
        {
          "output_type": "stream",
          "name": "stdout",
          "text": [
            "['michael', 'florence', 'eli']\n"
          ]
        }
      ]
    },
    {
      "cell_type": "markdown",
      "source": [
        "### Loop a través de un slice"
      ],
      "metadata": {
        "id": "CtAMacFd7qOP"
      }
    },
    {
      "cell_type": "code",
      "source": [
        "players = ['charles', 'martina', 'michael', 'florence', 'eli']\n",
        "\n",
        "print(\"Estos son los tres primeros jugadores del equipo:\")\n",
        "for player in players[-2:]:\n",
        "    print(player.title())"
      ],
      "metadata": {
        "id": "uB10K-mq7vi-",
        "outputId": "03c890cc-f4bc-4cc5-a4d9-b0c15e1fa465",
        "colab": {
          "base_uri": "https://localhost:8080/"
        }
      },
      "execution_count": 69,
      "outputs": [
        {
          "output_type": "stream",
          "name": "stdout",
          "text": [
            "Estos son los tres primeros jugadores del equipo:\n",
            "Florence\n",
            "Eli\n"
          ]
        }
      ]
    },
    {
      "cell_type": "markdown",
      "source": [
        "### Copiando una lista"
      ],
      "metadata": {
        "id": "jsCWYHQC8Faa"
      }
    },
    {
      "cell_type": "code",
      "source": [
        "my_foods = ['pizza', 'falafel', 'carrot cake']\n",
        "friend_foods = my_foods[:]"
      ],
      "metadata": {
        "id": "x8Vk1ehE8I21"
      },
      "execution_count": 70,
      "outputs": []
    },
    {
      "cell_type": "code",
      "source": [
        "print(\"Mis platillos favoritos son:\")\n",
        "print(my_foods)"
      ],
      "metadata": {
        "id": "z0LWVPBd8SCK",
        "outputId": "cffeb09f-1946-44e3-cb34-ebc4223489fd",
        "colab": {
          "base_uri": "https://localhost:8080/"
        }
      },
      "execution_count": 71,
      "outputs": [
        {
          "output_type": "stream",
          "name": "stdout",
          "text": [
            "Mis platillos favoritos son:\n",
            "['pizza', 'falafel', 'carrot cake']\n"
          ]
        }
      ]
    },
    {
      "cell_type": "code",
      "source": [
        "print(\"\\nMis platillos favoritos son:\")\n",
        "print(friend_foods)"
      ],
      "metadata": {
        "id": "WwwjEoWS8bcG",
        "outputId": "f57d7b78-c0ab-4980-c73e-ef1fb61cec68",
        "colab": {
          "base_uri": "https://localhost:8080/"
        }
      },
      "execution_count": 72,
      "outputs": [
        {
          "output_type": "stream",
          "name": "stdout",
          "text": [
            "\n",
            "Mis platillos favoritos son:\n",
            "['pizza', 'falafel', 'carrot cake']\n"
          ]
        }
      ]
    },
    {
      "cell_type": "code",
      "source": [
        "my_foods.append('cannoli')\n",
        "friend_foods.append('ice cream')\n"
      ],
      "metadata": {
        "id": "722i5Iju865m"
      },
      "execution_count": 73,
      "outputs": []
    },
    {
      "cell_type": "code",
      "source": [
        "print(\"Mis platillos favoritos son:\")\n",
        "print(my_foods)"
      ],
      "metadata": {
        "id": "WrvMdmk59CJ3",
        "outputId": "d5bf564e-afee-4929-b50e-7ec2e9b30ef5",
        "colab": {
          "base_uri": "https://localhost:8080/"
        }
      },
      "execution_count": 76,
      "outputs": [
        {
          "output_type": "stream",
          "name": "stdout",
          "text": [
            "Mis platillos favoritos son:\n",
            "['pizza', 'falafel', 'carrot cake', 'cannoli']\n"
          ]
        }
      ]
    },
    {
      "cell_type": "code",
      "source": [
        "print(\"\\nMis platillos favoritos son:\")\n",
        "print(friend_foods)"
      ],
      "metadata": {
        "id": "IUCV_DlY9DuC",
        "outputId": "67b87a56-47c7-4b4b-8d4d-a4d2209c4fea",
        "colab": {
          "base_uri": "https://localhost:8080/"
        }
      },
      "execution_count": 75,
      "outputs": [
        {
          "output_type": "stream",
          "name": "stdout",
          "text": [
            "\n",
            "Mis platillos favoritos son:\n",
            "['pizza', 'falafel', 'carrot cake', 'ice cream']\n"
          ]
        }
      ]
    },
    {
      "cell_type": "markdown",
      "source": [
        "---\n",
        "\n",
        "<b> Ejercicio 1</b>\n",
        "\n",
        "Utilizando alguna lista definida anteriormente:\n",
        "\n",
        "*   Imprima el mensaje **Los tres primeros elementos de la lista son:**. Luego use un slice para imprimir los primeros tres elementos de la lista de ese programa.\n",
        "\n",
        "*   Imprima el mensaje **Tres elementos de la mitad de la lista son:**. Use un slice para imprimir tres elementos del medio de la lista.\n",
        "\n",
        "*   Imprima el mensaje **Los últimos tres elementos de la lista son:**. Utilice un slice para imprimir los últimos tres elementos de la lista."
      ],
      "metadata": {
        "id": "H30p04iC93Ma"
      }
    },
    {
      "cell_type": "code",
      "source": [
        "# print(f\"Los tres primeros elemenos de la lista son :\\n\\t{my_foods[0:3]}\")\n",
        "print(f\"Los tres elementos de la mitad de la lista son :\\n\\t{my_foods[1:]}\")"
      ],
      "metadata": {
        "id": "QgVAv1a6xZJw"
      },
      "execution_count": null,
      "outputs": []
    },
    {
      "cell_type": "markdown",
      "source": [
        "---\n",
        "\n",
        "<b> Ejercicio 2</b>\n",
        "\n",
        "Haga una copia de la lista de pizzas y llámela friend_pizzas. Luego, haz lo siguiente:\n",
        "\n",
        "* Agregue una nueva pizza a la lista original.\n",
        "* Agrega una pizza diferente a la lista friend_pizzas.\n",
        "* Demuestra que tienes dos listas separadas. Imprima el mensaje Mis pizzas favoritas son: y luego use un bucle for para imprimir la primera lista. Imprima el mensaje Las pizzas favoritas de mi amigo son: y luego use un bucle for para imprimir la segunda lista. Asegúrese de que cada pizza nueva se almacene en la lista adecuada."
      ],
      "metadata": {
        "id": "0SzOQQ7S_s1U"
      }
    },
    {
      "cell_type": "code",
      "source": [
        "pizzas = ['peperoni','americana','vegetariana','hawaiana','cuatro quesos']\n",
        "friend_pizzas = pizzas[:]\n",
        "\n"
      ],
      "metadata": {
        "id": "_i9_14PGy_ET"
      },
      "execution_count": 81,
      "outputs": []
    },
    {
      "cell_type": "code",
      "source": [
        "pizzas.append('champiñones')"
      ],
      "metadata": {
        "id": "IrBq3SVNzb3x"
      },
      "execution_count": 82,
      "outputs": []
    },
    {
      "cell_type": "code",
      "source": [
        "print(pizzas)\n",
        "print(friend_pizzas)"
      ],
      "metadata": {
        "id": "7ab_j6GHzhIe",
        "outputId": "0cb39ea5-d83e-478d-c8d6-bbac22fbe9a6",
        "colab": {
          "base_uri": "https://localhost:8080/"
        }
      },
      "execution_count": 83,
      "outputs": [
        {
          "output_type": "stream",
          "name": "stdout",
          "text": [
            "['peperoni', 'americana', 'vegetariana', 'hawaiana', 'cuatro quesos', 'champiñones']\n",
            "['peperoni', 'americana', 'vegetariana', 'hawaiana', 'cuatro quesos']\n"
          ]
        }
      ]
    },
    {
      "cell_type": "code",
      "source": [
        "print(\"Mis pizzas favoritas son:\")\n",
        "for fav_pizzas in pizzas:\n",
        "  print(f\"-{fav_pizzas}\")"
      ],
      "metadata": {
        "id": "aUBTQ3DozrsG",
        "outputId": "8a5fe18c-d7f0-423f-a865-7a061f98ca80",
        "colab": {
          "base_uri": "https://localhost:8080/"
        }
      },
      "execution_count": 88,
      "outputs": [
        {
          "output_type": "stream",
          "name": "stdout",
          "text": [
            "Mis pizzas favoritas son:\n",
            "-peperoni\n",
            "-americana\n",
            "-vegetariana\n",
            "-hawaiana\n",
            "-cuatro quesos\n",
            "-champiñones\n"
          ]
        }
      ]
    },
    {
      "cell_type": "code",
      "source": [
        "print(\"Las pizzas favoritas de mi amigo son::\")\n",
        "for fav_friend_pizzas in friend_pizzas:\n",
        "  print(f\"-{fav_friend_pizzas}\")"
      ],
      "metadata": {
        "id": "8BjpKs-A0TWt",
        "outputId": "d9d74417-01d9-4811-93ac-48f5a55c8408",
        "colab": {
          "base_uri": "https://localhost:8080/"
        }
      },
      "execution_count": 89,
      "outputs": [
        {
          "output_type": "stream",
          "name": "stdout",
          "text": [
            "Las pizzas favoritas de mi amigo son::\n",
            "-peperoni\n",
            "-americana\n",
            "-vegetariana\n",
            "-hawaiana\n",
            "-cuatro quesos\n"
          ]
        }
      ]
    },
    {
      "cell_type": "code",
      "source": [
        "pizzas=['Margaria','Peperoni','Americana','Meat Lover','Hawaina']\n",
        "friends_pizzas = pizzas[:]\n",
        "friends_pizzas.append('Chicken BBQ')\n",
        "\n",
        "for i in pizzas:\n",
        "  print (f'Mis pizzas favoritas son: {i}')\n",
        "\n",
        "for a in friends_pizzas:\n",
        "  print (f'Las pizzas favoritas de mi amigo son: {a}')\n"
      ],
      "metadata": {
        "id": "yFEXvMY41mr1",
        "outputId": "68925370-ee09-496e-caed-b4a361ead2a9",
        "colab": {
          "base_uri": "https://localhost:8080/"
        }
      },
      "execution_count": 91,
      "outputs": [
        {
          "output_type": "stream",
          "name": "stdout",
          "text": [
            "Mis pizzas favoritas son: Margaria\n",
            "Mis pizzas favoritas son: Peperoni\n",
            "Mis pizzas favoritas son: Americana\n",
            "Mis pizzas favoritas son: Meat Lover\n",
            "Mis pizzas favoritas son: Hawaina\n",
            "Las pizzas favoritas de mi amigo son: Margaria\n",
            "Las pizzas favoritas de mi amigo son: Peperoni\n",
            "Las pizzas favoritas de mi amigo son: Americana\n",
            "Las pizzas favoritas de mi amigo son: Meat Lover\n",
            "Las pizzas favoritas de mi amigo son: Hawaina\n",
            "Las pizzas favoritas de mi amigo son: Chicken BBQ\n"
          ]
        }
      ]
    },
    {
      "cell_type": "markdown",
      "source": [
        "# 3. Tuplas"
      ],
      "metadata": {
        "id": "qXYwCDghBHAx"
      }
    },
    {
      "cell_type": "code",
      "source": [
        "dimensions = (200, 50)"
      ],
      "metadata": {
        "id": "umIk-vrP_sXx"
      },
      "execution_count": null,
      "outputs": []
    },
    {
      "cell_type": "code",
      "source": [
        "print(dimensions[0])"
      ],
      "metadata": {
        "id": "adBx3YWqB1xF"
      },
      "execution_count": null,
      "outputs": []
    },
    {
      "cell_type": "code",
      "source": [
        "print(dimensions[1])"
      ],
      "metadata": {
        "id": "EXHXNGfoB54Y"
      },
      "execution_count": null,
      "outputs": []
    },
    {
      "cell_type": "code",
      "source": [
        "dimensions[0] = 250"
      ],
      "metadata": {
        "id": "CiUL-aB3CJMx"
      },
      "execution_count": null,
      "outputs": []
    },
    {
      "cell_type": "markdown",
      "source": [
        "### Loops a traves de una Tupla"
      ],
      "metadata": {
        "id": "5SkhgqGSCX7Z"
      }
    },
    {
      "cell_type": "code",
      "source": [
        "dimensions = (200, 50)\n",
        "for dimension in dimensions:\n",
        "    print(dimension)"
      ],
      "metadata": {
        "id": "N9sSXtO3CoPp"
      },
      "execution_count": null,
      "outputs": []
    },
    {
      "cell_type": "markdown",
      "source": [
        "### Modificando una tupla"
      ],
      "metadata": {
        "id": "y-nYJPBwC5jg"
      }
    },
    {
      "cell_type": "code",
      "source": [
        "print(\"Dimensiones originales:\")\n",
        "for dimension in dimensions:\n",
        "    print(dimension)"
      ],
      "metadata": {
        "colab": {
          "base_uri": "https://localhost:8080/"
        },
        "id": "ze8gyArPCz0Z",
        "outputId": "5c1fc634-7c73-420a-ddf4-67cc58c33ba9"
      },
      "execution_count": null,
      "outputs": [
        {
          "output_type": "stream",
          "name": "stdout",
          "text": [
            "Original dimensions:\n",
            "200\n",
            "50\n"
          ]
        }
      ]
    },
    {
      "cell_type": "code",
      "source": [
        "dimensions = (400, 100)\n",
        "print(\"\\nModified dimensions:\")\n",
        "for dimension in dimensions:\n",
        "  print(dimension)"
      ],
      "metadata": {
        "id": "9Ej9n7-9C_Jc"
      },
      "execution_count": null,
      "outputs": []
    },
    {
      "cell_type": "markdown",
      "source": [
        "---\n",
        "\n",
        "<b> Ejercicio 1</b>\n",
        "\n",
        "Un restaurante estilo buffet ofrece solo cinco alimentos básicos. Piense en cinco alimentos simples y guárdelos en una tupla.\n",
        "\n",
        "* Use un bucle for para imprimir cada comida que ofrece el restaurante.\n",
        "Intente modificar uno de los elementos y asegúrese de que Python rechace el cambio.\n",
        "* El restaurante cambia su menú, reemplazando dos de los artículos con comidas diferentes. Agregue una línea que reescriba la tupla y luego use un ciclo for para imprimir cada uno de los elementos en el menú revisado.\n",
        "\n",
        "---"
      ],
      "metadata": {
        "id": "WHk9FL9lDtBY"
      }
    },
    {
      "cell_type": "markdown",
      "source": [
        "# 4. Diccionarios"
      ],
      "metadata": {
        "id": "BZTa7B8LFrIG"
      }
    },
    {
      "cell_type": "markdown",
      "source": [
        "### Un diccionario simple"
      ],
      "metadata": {
        "id": "CK7WpabLGUxg"
      }
    },
    {
      "cell_type": "code",
      "source": [
        "alien_0 = {'color': 'green', 'points': 5}\n",
        "\n",
        "print(alien_0['color'])\n",
        "print(alien_0['points'])"
      ],
      "metadata": {
        "id": "1LBNlCbNH7If"
      },
      "execution_count": null,
      "outputs": []
    },
    {
      "cell_type": "markdown",
      "source": [
        "### Trabajando con diccionarios"
      ],
      "metadata": {
        "id": "9leFQDy1H-90"
      }
    },
    {
      "cell_type": "code",
      "source": [
        "alien_0 = {'color': 'green'}\n",
        "\n",
        "print(alien_0['color'])"
      ],
      "metadata": {
        "id": "BN2xEdrkK2bk"
      },
      "execution_count": null,
      "outputs": []
    },
    {
      "cell_type": "code",
      "source": [
        "alien_0 = {'color': 'green', 'points': 5}\n",
        "\n",
        "new_points = alien_0['points']\n",
        "print(f\"Acabas de ganar {new_points} puntos!\")"
      ],
      "metadata": {
        "id": "R4beHSA3LISl"
      },
      "execution_count": null,
      "outputs": []
    },
    {
      "cell_type": "markdown",
      "source": [
        "### Agregando nuevos pares Key-Value"
      ],
      "metadata": {
        "id": "5hqxo8XZLn1q"
      }
    },
    {
      "cell_type": "code",
      "source": [
        "alien_0 = {'color': 'green', 'points': 5}\n",
        "print(alien_0)\n",
        "\n",
        "alien_0['x_position'] = 0\n",
        "alien_0['y_position'] = 25\n",
        "print(alien_0)"
      ],
      "metadata": {
        "id": "oznLSM29L4fq"
      },
      "execution_count": null,
      "outputs": []
    },
    {
      "cell_type": "markdown",
      "source": [
        "### Comenzando con un diccionario vacio"
      ],
      "metadata": {
        "id": "dVF5nxchMdg-"
      }
    },
    {
      "cell_type": "code",
      "source": [
        "alien_0 = {}\n",
        "\n",
        "alien_0['color'] = 'green'\n",
        "alien_0['points'] = 5\n",
        "\n",
        "print(alien_0)"
      ],
      "metadata": {
        "id": "9tlTgbesMhSZ"
      },
      "execution_count": null,
      "outputs": []
    },
    {
      "cell_type": "markdown",
      "source": [
        "### Modificando valores de un diccionario"
      ],
      "metadata": {
        "id": "fsYC2R6GMnnF"
      }
    },
    {
      "cell_type": "code",
      "source": [
        "alien_0 = {'color': 'verde'}\n",
        "print(f\"El alien es {alien_0['color']}.\")\n",
        "\n",
        "alien_0['color'] = 'amarillo'\n",
        "print(f\"El alien ahora es {alien_0['color']}.\")\n"
      ],
      "metadata": {
        "id": "TlHsOz42Mszc"
      },
      "execution_count": null,
      "outputs": []
    },
    {
      "cell_type": "code",
      "source": [
        "alien_0 = {'x_position': 0, 'y_position': 25, 'speed': 'medium'}\n",
        "print(f\"Original position: {alien_0['x_position']}\")\n",
        "\n",
        "if alien_0['speed'] == 'slow':\n",
        "  x_increment = 1\n",
        "elif alien_0['speed'] == 'medium':\n",
        "  x_increment = 2\n",
        "else:\n",
        "  x_increment = 3\n",
        "\n",
        "alien_0['x_position'] = alien_0['x_position'] + x_increment\n",
        "print(f\"New position: {alien_0['x_position']}\")\n"
      ],
      "metadata": {
        "id": "7t-om1JhM951"
      },
      "execution_count": null,
      "outputs": []
    },
    {
      "cell_type": "markdown",
      "source": [
        "### Removiendo pares Key-Value"
      ],
      "metadata": {
        "id": "q2d6kw3XNkRQ"
      }
    },
    {
      "cell_type": "code",
      "source": [
        "alien_0 = {'color': 'green', 'points': 5}\n",
        "print(alien_0)\n",
        "\n",
        "del alien_0['points']\n",
        "print(alien_0)\n"
      ],
      "metadata": {
        "id": "ZQwVkViANor0"
      },
      "execution_count": null,
      "outputs": []
    },
    {
      "cell_type": "markdown",
      "source": [
        "### Un diccionario de objetos similares"
      ],
      "metadata": {
        "id": "K3ASKj6tOnas"
      }
    },
    {
      "cell_type": "code",
      "source": [
        "favorite_languages = {\n",
        "    'jen': 'python',\n",
        "    'sarah': 'c++',\n",
        "    'edward': 'ruby',\n",
        "    'phil': 'python',\n",
        "    }"
      ],
      "metadata": {
        "id": "9x9FJQp0Oqrj"
      },
      "execution_count": null,
      "outputs": []
    },
    {
      "cell_type": "code",
      "source": [
        "language = favorite_languages['sarah']\n",
        "print(f\"El lenguaje favorito de Sarah es {language}.\")"
      ],
      "metadata": {
        "id": "Vl4peHpEOvAo"
      },
      "execution_count": null,
      "outputs": []
    },
    {
      "cell_type": "code",
      "source": [
        "favorite_languages['sarah']"
      ],
      "metadata": {
        "id": "xKCA_j2UO5eC"
      },
      "execution_count": null,
      "outputs": []
    },
    {
      "cell_type": "markdown",
      "source": [
        "### Usando get() para acceder a los valores"
      ],
      "metadata": {
        "id": "hHVI1fmuO_7v"
      }
    },
    {
      "cell_type": "code",
      "source": [
        "alien_0 = {'color': 'green', 'speed': 'slow'}\n",
        "print(alien_0['points'])"
      ],
      "metadata": {
        "id": "CEStOn5DPOo_"
      },
      "execution_count": null,
      "outputs": []
    },
    {
      "cell_type": "code",
      "source": [
        "alien_0.get('color')"
      ],
      "metadata": {
        "id": "1OOz1_tNPr6b"
      },
      "execution_count": null,
      "outputs": []
    },
    {
      "cell_type": "code",
      "source": [
        "point_value = alien_0.get('points', 'No point value assigned.')\n",
        "print(point_value)"
      ],
      "metadata": {
        "id": "jSYYU2MxPVmd"
      },
      "execution_count": null,
      "outputs": []
    },
    {
      "cell_type": "code",
      "source": [
        "alien_0.get('points', 'No point value assigned.')"
      ],
      "metadata": {
        "id": "msUlArzMPqQK"
      },
      "execution_count": null,
      "outputs": []
    },
    {
      "cell_type": "markdown",
      "source": [
        "---\n",
        "\n",
        "<b> Ejercicio 1</b>\n",
        "\n",
        "Usa un diccionario para almacenar información sobre una persona que conoces. Almacene su nombre, apellido, edad y la ciudad en la que vive. Debe tener claves como nombre, apellido, edad y ciudad. Imprima cada parte de información almacenada en su diccionario.\n",
        "\n"
      ],
      "metadata": {
        "id": "ctXa-OLlQaXn"
      }
    },
    {
      "cell_type": "markdown",
      "source": [
        "---\n",
        "\n",
        "<b> Ejercicio 2</b>\n",
        "\n",
        "Use un diccionario para almacenar los números favoritos de las personas. Piensa en cinco nombres y utilízalos como llaves en tu diccionario. Piense en un número favorito para cada persona y guárdelo como un valor en su diccionario. Escriba el nombre de cada persona y su número favorito. \n",
        "\n"
      ],
      "metadata": {
        "id": "7_krS5iiQ7KW"
      }
    },
    {
      "cell_type": "markdown",
      "source": [
        "---\n",
        "\n",
        "<b> Ejercicio 3</b>\n",
        "\n",
        "Piense en cinco palabras de programación que haya aprendido. Utilice estas palabras como llaves en su glosario y almacene sus significados como valores.\n",
        "\n",
        "Imprima cada palabra y su significado como una salida con un formato ordenado. Puede imprimir la palabra seguida de dos puntos y luego su significado, o imprimir la palabra en una línea y luego imprimir su significado con sangría en una segunda línea. Utilice el carácter de nueva línea (\\n) para insertar una línea en blanco entre cada par de palabra y significado en su salida.\n",
        "\n",
        "---"
      ],
      "metadata": {
        "id": "PmMzWA-nVOOi"
      }
    },
    {
      "cell_type": "markdown",
      "source": [
        "### Loops con diccionarios"
      ],
      "metadata": {
        "id": "xHZwF4EJVuP7"
      }
    },
    {
      "cell_type": "code",
      "source": [
        "user_0 = {\n",
        "    'username': 'efermi',\n",
        "    'first': 'enrico',\n",
        "    'last': 'fermi',\n",
        "    }"
      ],
      "metadata": {
        "id": "Nhs0f6CEQ6np"
      },
      "execution_count": null,
      "outputs": []
    },
    {
      "cell_type": "code",
      "source": [
        "for key, value in user_0.items():\n",
        "    print(f\"\\nKey: {key}\")\n",
        "    print(f\"Value: {value}\")"
      ],
      "metadata": {
        "id": "Q1m7T12eV3XJ"
      },
      "execution_count": null,
      "outputs": []
    },
    {
      "cell_type": "code",
      "source": [
        "for name, language in favorite_languages.items():\n",
        "  print(f\"El lenguaje favorito de {name} es {language}.\")"
      ],
      "metadata": {
        "id": "AanKmbfWWFCn"
      },
      "execution_count": null,
      "outputs": []
    },
    {
      "cell_type": "code",
      "source": [
        "for name in sorted(favorite_languages.keys()):\n",
        "    print(f\"{name.title()}, gracias por tomar la encuesta.)"
      ],
      "metadata": {
        "id": "C2PjJC4rjbgB"
      },
      "execution_count": null,
      "outputs": []
    },
    {
      "cell_type": "markdown",
      "source": [
        "---\n",
        "\n",
        "<b> Ejercicio 1</b>\n",
        "\n",
        "Haga un diccionario que contenga tres ríos principales y el país por el que pasa cada río. Un par clave-valor podría ser 'nilo': 'egipto'.\n",
        "\n",
        "* Use un bucle para imprimir una oración sobre cada río, como El Nilo atraviesa Egipto.\n",
        "* Utilice un bucle para imprimir el nombre de cada río incluido en el diccionario.\n",
        "* Use un bucle para imprimir el nombre de cada país incluido en el diccionario.\n"
      ],
      "metadata": {
        "id": "Ov6u5MxIj2WA"
      }
    },
    {
      "cell_type": "markdown",
      "source": [
        "---\n",
        "\n",
        "<b> Ejercicio 2</b>\n",
        "\n",
        "Haz una lista de las personas que deberían participar en la encuesta de idiomas favoritos. Incluye algunos nombres que ya estén en el diccionario y otros que no.\n",
        "Recorra la lista de personas que deberían realizar la encuesta. Si ya han realizado la encuesta, imprima un mensaje agradeciéndoles por responder. Si aún no han realizado la encuesta, imprima un mensaje invitándoles a realizar la encuesta.\n",
        "\n",
        "---"
      ],
      "metadata": {
        "id": "aSr26WfmkSSv"
      }
    },
    {
      "cell_type": "markdown",
      "source": [
        "### Lista de diccionarios"
      ],
      "metadata": {
        "id": "9v43SleGkhAh"
      }
    },
    {
      "cell_type": "code",
      "source": [
        "alien_0 = {'color': 'green', 'points': 5}\n",
        "alien_1 = {'color': 'yellow', 'points': 10}\n",
        "alien_2 = {'color': 'red', 'points': 15}\n",
        "\n",
        "aliens = [alien_0, alien_1, alien_2]\n",
        "\n",
        "for alien in aliens:\n",
        "  print(alien)"
      ],
      "metadata": {
        "id": "scvK9Q9bkRy0"
      },
      "execution_count": null,
      "outputs": []
    },
    {
      "cell_type": "code",
      "source": [
        "aliens = []\n",
        "\n",
        "# Make 30 green aliens.\n",
        "for alien_number in range(30):\n",
        "    new_alien = {'color': 'green', 'points': 5, 'speed': 'slow'}\n",
        "    aliens.append(new_alien)\n",
        "\n",
        "# Show the first 5 aliens.\n",
        "for alien in aliens[:5]:\n",
        "    print(alien)\n",
        "print(\"...\")\n",
        "\n",
        "# Show how many aliens have been created.\n",
        "print(f\"Total number of aliens: {len(aliens)}\")\n"
      ],
      "metadata": {
        "id": "fVooKiRtkufd"
      },
      "execution_count": null,
      "outputs": []
    },
    {
      "cell_type": "code",
      "source": [
        "aliens = []\n",
        "\n",
        "# Make 30 green aliens.\n",
        "for alien_number in range(30):\n",
        "    new_alien = {'color': 'green', 'points': 5, 'speed': 'slow'}\n",
        "    aliens.append(new_alien)\n",
        "\n",
        "for alien in aliens[:3]:\n",
        "    if alien['color'] == 'green':\n",
        "        alien['color'] = 'yellow'\n",
        "        alien['speed'] = 'medium'\n",
        "        alien['points'] = 10\n",
        "\n",
        "# Show the first 5 aliens.\n",
        "for alien in aliens[:5]:\n",
        "    print(alien)\n",
        "print(\"...\")\n",
        "\n",
        "# Show how many aliens have been created.\n",
        "print(f\"Total number of aliens: {len(aliens)}\")"
      ],
      "metadata": {
        "id": "pAwmoRu5k6CR"
      },
      "execution_count": null,
      "outputs": []
    },
    {
      "cell_type": "code",
      "source": [
        "aliens = []\n",
        "\n",
        "# Make 30 green aliens.\n",
        "for alien_number in range(30):\n",
        "  new_alien = {'color': 'green', 'points': 5, 'speed': 'slow'}\n",
        "  aliens.append(new_alien)\n",
        "\n",
        "for alien in aliens[:3]:\n",
        "  if alien['color'] == 'green':\n",
        "    alien['color'] = 'yellow'\n",
        "    alien['speed'] = 'medium'\n",
        "    alien['points'] = 10\n",
        "        \n",
        "  elif alien['color'] == 'yellow':\n",
        "    alien['color'] = 'red'\n",
        "    alien['speed'] = 'fast'\n",
        "    alien['points'] = 15\n",
        "\n",
        "# Show the first 5 aliens.\n",
        "for alien in aliens[:5]:\n",
        "    print(alien)\n",
        "print(\"...\")\n",
        "\n",
        "# Show how many aliens have been created.\n",
        "print(f\"Total number of aliens: {len(aliens)}\")"
      ],
      "metadata": {
        "id": "g8Q_Btd6lFDn"
      },
      "execution_count": null,
      "outputs": []
    },
    {
      "cell_type": "markdown",
      "source": [
        "### Una lista en un diccionario"
      ],
      "metadata": {
        "id": "M3RgdLwtluyF"
      }
    },
    {
      "cell_type": "code",
      "source": [
        "# Store information about a pizza being ordered.\n",
        "pizza = {\n",
        "         'crust': 'thick',\n",
        "         'toppings': ['mushrooms', 'extra cheese'],\n",
        "        }\n",
        "\n",
        "# Summarize the order.\n",
        "print(f\"You ordered a {pizza['crust']}-crust pizza \"\n",
        "  \"with the following toppings:\")\n",
        "\n",
        "for topping in pizza['toppings']:\n",
        "  print(f\"\\t{topping}\")"
      ],
      "metadata": {
        "id": "1awTpHiplzaH"
      },
      "execution_count": null,
      "outputs": []
    },
    {
      "cell_type": "code",
      "source": [
        "favorite_languages = {\n",
        "       'jen': ['python', 'ruby'],\n",
        "       'sarah': ['c'],\n",
        "       'edward': ['ruby', 'go'],\n",
        "       'phil': ['python', 'haskell'],\n",
        "       }\n",
        "\n",
        "for name, languages in favorite_languages.items():\n",
        "  print(f\"\\n{name}'s favorite languages are:\")\n",
        "\n",
        "  for language in languages:\n",
        "    print(f\"\\t{language}\")\n"
      ],
      "metadata": {
        "id": "tXuoOkfgmLVF"
      },
      "execution_count": null,
      "outputs": []
    },
    {
      "cell_type": "markdown",
      "source": [
        "---\n",
        "\n",
        "<b> Ejercicio 1</b>\n",
        "\n",
        "Cree tres nuevos diccionarios que representen a diferentes personas y almacene los tres diccionarios en una lista llamada personas. Recorra su lista de personas. Mientras recorre la lista, imprima todo lo que sabe sobre cada persona.\n"
      ],
      "metadata": {
        "id": "3JJTjbfhmwks"
      }
    },
    {
      "cell_type": "markdown",
      "source": [
        "---\n",
        "\n",
        "<b> Ejercicio 2</b>\n",
        "\n",
        "Haga varios diccionarios, donde cada diccionario represente una mascota diferente. En cada diccionario, incluya el tipo de animal y el nombre del dueño. Guarde estos diccionarios en una lista llamada mascotas. A continuación, recorra su lista y, mientras lo hace, imprima todo lo que sepa sobre cada mascota."
      ],
      "metadata": {
        "id": "oU2XiQHAnAtB"
      }
    },
    {
      "cell_type": "markdown",
      "source": [
        "---\n",
        "\n",
        "<b> Ejercicio 3</b>\n",
        "\n",
        "Haga un diccionario llamado lugares_favoritos. Piense en tres nombres para usar como llaves en el diccionario y almacene de uno a tres lugares favoritos para cada persona. Recorre el diccionario e imprime el nombre de cada persona y sus lugares favoritos."
      ],
      "metadata": {
        "id": "YH2BoPpVnMLu"
      }
    },
    {
      "cell_type": "markdown",
      "source": [
        "---\n",
        "\n",
        "<b> Ejercicio 4</b>\n",
        "\n",
        "Haz un diccionario llamado ciudades. Usa los nombres de tres ciudades como llaves en tu diccionario. Cree un diccionario de información sobre cada ciudad e incluya el país en el que se encuentra la ciudad, su población aproximada y un dato sobre esa ciudad. Las claves para el diccionario de cada ciudad deben ser algo como país, población y hecho. Imprime el nombre de cada ciudad y toda la información que tengas almacenada sobre ella."
      ],
      "metadata": {
        "id": "YjkTHXHWnY-y"
      }
    },
    {
      "cell_type": "markdown",
      "source": [
        "---\n",
        "\n",
        "<b> Ejercicio 5</b>\n",
        "\n",
        "Ahora estamos trabajando con ejemplos que son lo suficientemente complejos como para que puedan extenderse de varias maneras. Utilice uno de los programas de este laboratorio y amplíelo agregando nuevas claves y valores, cambiando el contexto del programa o mejorando el formato de la salida.\n",
        "\n",
        "---"
      ],
      "metadata": {
        "id": "hMvNIar-nqAr"
      }
    },
    {
      "cell_type": "markdown",
      "source": [
        "---\n",
        "\n",
        "# Gracias por completar este laboratorio!\n",
        "\n",
        "---\n"
      ],
      "metadata": {
        "id": "LY_03M0BoJZQ"
      }
    }
  ]
}
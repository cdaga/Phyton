{
  "nbformat": 4,
  "nbformat_minor": 0,
  "metadata": {
    "colab": {
      "provenance": [],
      "collapsed_sections": [],
      "authorship_tag": "ABX9TyM2rLrjncsCEVj+9BSNVtJ+",
      "include_colab_link": true
    },
    "kernelspec": {
      "name": "python3",
      "display_name": "Python 3"
    },
    "language_info": {
      "name": "python"
    }
  },
  "cells": [
    {
      "cell_type": "markdown",
      "metadata": {
        "id": "view-in-github",
        "colab_type": "text"
      },
      "source": [
        "<a href=\"https://colab.research.google.com/github/cdaga/Phyton/blob/main/Trabajo_final_curso_phyton/Trabajo_final_curso_phyton.ipynb\" target=\"_parent\"><img src=\"https://colab.research.google.com/assets/colab-badge.svg\" alt=\"Open In Colab\"/></a>"
      ]
    },
    {
      "cell_type": "markdown",
      "source": [
        "<img src=\"https://www.ctic.uni.edu.pe/wp-content/uploads/2022/04/588px-x-348px-web-1.png\" alt=\"HTML5 Icon\" width=\"900\" height=\"350\" >\n"
      ],
      "metadata": {
        "id": "qCg1zV0_DK0j"
      }
    },
    {
      "cell_type": "markdown",
      "source": [
        "<h1 align=center><font size = 5>TRABAJO FINAL DE CURSO PHYTON BASICO (EJERCICIOS)</font></h1>\n",
        "\n",
        "---"
      ],
      "metadata": {
        "id": "HvKPF12k3HZT"
      }
    },
    {
      "cell_type": "markdown",
      "source": [
        "<h1 align=center><font size = 5>ALUMNO: CRISTIAN EDUARDO DAGA QUISPE</font></h1>\n",
        "\n",
        "---"
      ],
      "metadata": {
        "id": "XEcf43xx4tuf"
      }
    },
    {
      "cell_type": "markdown",
      "source": [
        "<h1 align=center><font size = 5>UNIDAD II  - ESTRUCTURAS SELECTIVAS Y REPETITIVAS\n",
        "</font></h1>\n",
        "\n",
        "---"
      ],
      "metadata": {
        "id": "XJ-qSpecBnPA"
      }
    },
    {
      "cell_type": "markdown",
      "source": [
        "<b> Ejercicio </b>\n",
        "\n",
        "Usa una variable para representar un número. Luego, usando esa variable, cree un mensaje que revele su número. Imprime ese mensaje."
      ],
      "metadata": {
        "id": "CpJsuNbVRKZ3"
      }
    },
    {
      "cell_type": "code",
      "source": [
        "var_numero = 4\n",
        "print(f\"El valor para la variable var_numero es: {var_numero}\")\n"
      ],
      "metadata": {
        "id": "9yuZiDERMM3y"
      },
      "execution_count": null,
      "outputs": []
    },
    {
      "cell_type": "markdown",
      "source": [
        "### Probando múltiples condiciones"
      ],
      "metadata": {
        "id": "_8dO4jjn-Ga_"
      }
    },
    {
      "cell_type": "markdown",
      "source": [
        "<b> Ejercicio 1</b>\n",
        "\n",
        "Imagina que un extraterrestre acaba de ser derribado en un juego. Cree una variable llamada alien_color y asígnele un valor de 'verde', 'amarillo' o 'rojo'.\n",
        "\n",
        "Escribe una declaración if para probar si el color del extraterrestre es verde. Si es así, imprime un mensaje de que el jugador acaba de ganar 5 puntos."
      ],
      "metadata": {
        "id": "Y-WZOmge-ddV"
      }
    },
    {
      "cell_type": "code",
      "source": [
        "nombre_jugador = str(input('Ingrese su nombre: '))\n",
        "alien_color = str(input('Ingrese un color para el alien (rojo,amarillo,verde): '))\n",
        "\n",
        "\n",
        "if alien_color=='rojo':\n",
        "  print('Color sin bonificacion. Sigue intentandolo')\n",
        "elif alien_color =='verde':\n",
        "  print(f'Felicitaciones {nombre_jugador}, acabas de ganar 5 puntos')\n",
        "elif alien_color == 'amarillo':\n",
        "  print('Color sin bonificacioN. Sigue intentandolo')\n"
      ],
      "metadata": {
        "id": "si-O45sTSPtu"
      },
      "execution_count": null,
      "outputs": []
    },
    {
      "cell_type": "markdown",
      "source": [
        "<b> Ejercicio 2</b>\n",
        "\n",
        "Elija un color para un extraterrestre como lo hizo en el Ejercicio anterior y escriba una cadena if-else.\n",
        "\n",
        "Si el alienígena es verde, imprime un mensaje de que el jugador obtuvo 5 puntos.\n",
        "Si el alienígena es amarillo, imprime un mensaje de que el jugador obtuvo 10 puntos.\n",
        "Si el alienígena es rojo, imprime un mensaje de que el jugador obtuvo 15 puntos."
      ],
      "metadata": {
        "id": "fe2t6tUu-_sX"
      }
    },
    {
      "cell_type": "code",
      "source": [
        "nombre_jugador = str(input('Ingrese su nombre: '))\n",
        "alien_color = str(input('Ingrese un color para el alien (rojo,amarillo,verde): '))\n",
        "\n",
        "if alien_color=='verde':\n",
        "  print(f\"Felicidades {nombre_jugador}, obtuviste 5 puntos.\")\n",
        "elif alien_color=='amarillo':\n",
        "  print(f\"Felicidades {nombre_jugador}, obtuviste 10 puntos.\")\n",
        "elif alien_color=='rojo':\n",
        "  print(f\"Felicidades {nombre_jugador}, obtuviste 10 puntos.\")\n",
        "else:\n",
        "  print('Color sin bonificacion. Sigue intentandolo')\n"
      ],
      "metadata": {
        "id": "rRtH-m0-Uezk"
      },
      "execution_count": null,
      "outputs": []
    },
    {
      "cell_type": "markdown",
      "source": [
        "# Sentencias While"
      ],
      "metadata": {
        "id": "tQ7O2WPW_uWn"
      }
    },
    {
      "cell_type": "markdown",
      "source": [
        "<b> Ejercicio 1</b>\n",
        "\n",
        "Escriba un ciclo que solicite al usuario que ingrese una serie de ingredientes para la pizza hasta que ingrese un valor de 'salir'. A medida que ingresen cada ingrediente, imprima un mensaje que diga que agregará ese ingrediente a su pizza."
      ],
      "metadata": {
        "id": "NzzH8uoCFAMM"
      }
    },
    {
      "cell_type": "code",
      "source": [
        "prompt = \"\\nIngrese ingredientes para su pizza: \"\n",
        "prompt += \"\\nEscribe 'salir' para finalizar. \"\n",
        "\n",
        "message = \"\"\n",
        "while message != 'salir':\n",
        "  message = input(prompt)\n",
        "  if message == 'salir':\n",
        "    break\n",
        "  else:\n",
        "    print(f\"Se agregara {message} a su pizza\")\n"
      ],
      "metadata": {
        "id": "tDG54PCSpxoW"
      },
      "execution_count": null,
      "outputs": []
    },
    {
      "cell_type": "markdown",
      "source": [
        "<b> Ejercicio 2</b>\n",
        "\n",
        "Un cine cobra diferentes precios de boletos dependiendo de la edad de una persona. Si una persona es menor de 3 años, la entrada es gratuita; si son entre 3 y 12, el boleto cuesta s/. 10; y si son mayores de 12 años, el boleto cuesta s/. 15. Escriba un ciclo en el que pregunte a los usuarios su edad y luego dígales el costo de su boleto de cine."
      ],
      "metadata": {
        "id": "ATFL1LTaFDoF"
      }
    },
    {
      "cell_type": "code",
      "source": [
        "edad_persona = int(input('Ingrese su edad: '))\n",
        "\n",
        "while True:\n",
        "  if edad_persona < 3:\n",
        "    print(f\"Su entrada al cine es gratuito\")\n",
        "    break\n",
        "  elif edad_persona <=3 and edad_persona <= 12:\n",
        "    print(f\"Su boleta cuesta S/. 10\")\n",
        "    break\n",
        "  elif edad_persona > 12:\n",
        "    print(f\"Su boleta cuesta S/. 15\")\n",
        "    break\n"
      ],
      "metadata": {
        "id": "NeOHvvlSr4nO"
      },
      "execution_count": null,
      "outputs": []
    },
    {
      "cell_type": "markdown",
      "source": [
        "# 3. Sentencia For"
      ],
      "metadata": {
        "id": "wGafafRIF6Bz"
      }
    },
    {
      "cell_type": "markdown",
      "source": [
        "<b> Ejercicio 1</b>\n",
        "\n",
        "\n",
        "Piensa en al menos tres tipos de tu pizza favorita. Almacene estos nombres de pizza en una lista y luego use un ciclo for para imprimir el nombre de cada pizza.\n",
        "\n",
        "Modifique su ciclo for para imprimir una oración usando el nombre de la pizza en lugar de imprimir solo el nombre de la pizza. Para cada pizza, debe tener una línea de salida que contenga una declaración simple como Me gusta la pizza de pepperoni.\n",
        "Agregue una línea al final de su programa, fuera del bucle for, que indique cuánto le gusta la pizza. El resultado debe constar de tres o más líneas sobre los tipos de pizza que te gustan y luego una oración adicional, como ¡Me encanta la pizza!\n"
      ],
      "metadata": {
        "id": "FHwT_HI5Hedh"
      }
    },
    {
      "cell_type": "code",
      "source": [
        "favorite_pizzas = ['Pizza Peperonni', 'Pizza America', 'Pizza Hawaiana']\n",
        "for pizza in favorite_pizzas:\n",
        "  print(f\"Me me gusta la {pizza}\\n\")\n",
        "  #print(f\"- {pizza}.\\n\")\n",
        "print(\"¡Me encanta la pizza!\")"
      ],
      "metadata": {
        "colab": {
          "base_uri": "https://localhost:8080/"
        },
        "id": "kh910-D1uDsZ",
        "outputId": "24d5fc5d-0649-4199-baeb-47b93104129b"
      },
      "execution_count": null,
      "outputs": [
        {
          "output_type": "stream",
          "name": "stdout",
          "text": [
            "Me me gusta la Pizza Peperonni\n",
            "\n",
            "Me me gusta la Pizza America\n",
            "\n",
            "Me me gusta la Pizza Hawaiana\n",
            "\n",
            "¡Me encanta la pizza!\n"
          ]
        }
      ]
    },
    {
      "cell_type": "markdown",
      "source": [
        "<b> Ejercicio 2</b>\n",
        "\n",
        "Piensa en al menos tres animales diferentes que tengan una característica común. Guarde los nombres de estos animales en una lista y luego use un ciclo for para imprimir el nombre de cada animal.\n",
        "\n",
        "Modifique su programa para imprimir una declaración sobre cada animal, como Un perro sería una gran mascota.\n",
        "Agregue una línea al final de su programa indicando lo que estos animales tienen en común. Podría escribir una oración como ¡Cualquiera de estos animales sería una gran mascota!"
      ],
      "metadata": {
        "id": "CBNrK6wXHnEm"
      }
    },
    {
      "cell_type": "code",
      "source": [
        "animales = ['perro','gato','caballo']\n",
        "for animal in animales:\n",
        "  print(f\"Un {animal} sería una gran mascota.\")\n",
        "  #print(f\"{animal}\\n\")\n",
        "print(f\"Estos animales son domesticos y tienen 4 patas!\")"
      ],
      "metadata": {
        "colab": {
          "base_uri": "https://localhost:8080/"
        },
        "id": "MWbokmnWwNKw",
        "outputId": "a203399f-022f-44e4-b4a0-2f36eaa13499"
      },
      "execution_count": null,
      "outputs": [
        {
          "output_type": "stream",
          "name": "stdout",
          "text": [
            "Un perro sería una gran mascota.\n",
            "Un gato sería una gran mascota.\n",
            "Un caballo sería una gran mascota.\n",
            "Estos animales son domesticos y tienen 4 patas!\n"
          ]
        }
      ]
    },
    {
      "cell_type": "markdown",
      "source": [
        "<h1 align=center><font size = 5>UNIDAD III - FUNCIONES\n",
        "</font></h1>\n",
        "\n",
        "---"
      ],
      "metadata": {
        "id": "OVQ2JpIkXhGH"
      }
    },
    {
      "cell_type": "markdown",
      "source": [
        "#2. Usando información dentro de funciones"
      ],
      "metadata": {
        "id": "p7e7CUC_YjWU"
      }
    },
    {
      "cell_type": "markdown",
      "source": [
        "\n",
        "\n",
        "<b> Ejercicio 1</b>\n",
        "\n",
        "Escriba una función llamada **display_message()** que imprima una oración que diga a todos lo que está aprendiendo en este capítulo. Llame a la función y asegúrese de que el mensaje se muestre correctamente.\n"
      ],
      "metadata": {
        "id": "D8I5O9AjZgLY"
      }
    },
    {
      "cell_type": "code",
      "source": [
        "def display_message():\n",
        "  \"\"\"Esta función imprimi lo que estoy aprendiendo \n",
        "     en este presente capítulo\"\"\"\n",
        "  print(f\"\\t-Definir funciones\\n\\t-Ejecutar funciones\")\n",
        "\n",
        "\n",
        "display_message()\n",
        "     \n"
      ],
      "metadata": {
        "id": "jGvesIGgrRzi"
      },
      "execution_count": null,
      "outputs": []
    },
    {
      "cell_type": "markdown",
      "source": [
        "\n",
        "\n",
        "\n",
        "<b> Ejercicio 2</b>\n",
        "\n",
        "Escriba una función llamada **favorite_book()** que acepte un parámetro, título. La función debe imprimir un mensaje, como Uno de mis libros favoritos es Alicia en el país de las maravillas. Llame a la función, asegurándose de incluir el título de un libro como argumento en la llamada a la función.\n",
        "\n"
      ],
      "metadata": {
        "id": "hk_i1gS_bvyv"
      }
    },
    {
      "cell_type": "code",
      "source": [
        "def favorite_book(nombre_libro):\n",
        "  \"\"\"Esta función imprimi tu libro favorito \n",
        "      ingresado como parametro\"\"\"\n",
        "  print(f\"Mi libro favorito es: {nombre_libro}\")\n",
        "\n",
        "favorite_book('El señor de los Anillos')\n"
      ],
      "metadata": {
        "colab": {
          "base_uri": "https://localhost:8080/"
        },
        "id": "G3wru7tRybJu",
        "outputId": "9d864ec1-6b35-485d-ae83-f9cd86d3c70c"
      },
      "execution_count": null,
      "outputs": [
        {
          "output_type": "stream",
          "name": "stdout",
          "text": [
            "Mi libro favorito es: El señor de los Anillos\n"
          ]
        }
      ]
    },
    {
      "cell_type": "markdown",
      "source": [
        "### Evitar errores de argumento"
      ],
      "metadata": {
        "id": "21XnPX-tssX5"
      }
    },
    {
      "cell_type": "markdown",
      "source": [
        "\n",
        "<b> Ejercicio 1</b>\n",
        "\n",
        "Escribe una función llamada **make_shirt()** que acepte un tamaño y el texto de un mensaje que debería estar impreso en la camiseta. La función debe imprimir una oración que resuma el tamaño de la camisa y el mensaje impreso en ella.\n",
        "\n",
        "Llame a la función una vez usando argumentos posicionales para hacer una camisa. Llame a la función por segunda vez usando argumentos de palabras clave.\n"
      ],
      "metadata": {
        "id": "ixT6ac8IrM_m"
      }
    },
    {
      "cell_type": "code",
      "source": [
        "def make_shirt(talla,texto_impreso) :\n",
        "   camisa = print(f\"El tamaño de la camisa es {talla}.\\n El mensaje que lleva impreso es : {texto_impreso}\")\n",
        "   return camisa\n",
        "\n",
        "make_shirt('L','Perú')\n",
        "make_shirt(talla = 'L',texto_impreso='Perú')"
      ],
      "metadata": {
        "id": "y3blS7w9wcTz"
      },
      "execution_count": null,
      "outputs": []
    },
    {
      "cell_type": "markdown",
      "source": [
        "\n",
        "\n",
        "<b> Ejercicio 2</b>\n",
        "\n",
        "Modifique la función **make_shirt()** para que las camisetas sean grandes por defecto con un mensaje que diga Me encanta Python. Haz una camiseta grande y una camiseta mediana con el mensaje predeterminado y una camiseta de cualquier tamaño con un mensaje diferente.\n"
      ],
      "metadata": {
        "id": "SFKpbJpntvpg"
      }
    },
    {
      "cell_type": "code",
      "source": [
        "def make_shirt_modified(talla='L',texto_impreso='Me encanta Python') :\n",
        "   camisa = print(f\"El tamaño de la camisa es {talla}.\\n El mensaje que lleva impreso es : {texto_impreso}\")\n",
        "   return camisa\n",
        "\n",
        "make_shirt_modified()\n",
        "make_shirt_modified(talla='S',texto_impreso='Me encanta programar')"
      ],
      "metadata": {
        "id": "m65TXnLgzg-P"
      },
      "execution_count": null,
      "outputs": []
    },
    {
      "cell_type": "markdown",
      "source": [
        "\n",
        "\n",
        "<b> Ejercicio 3</b>\n",
        "\n",
        "Escribe una función llamada **describe_city()** que acepte el nombre de una ciudad y su país. La función debe imprimir una oración simple, como Reykjavik está en Islandia. Asigne al parámetro para el país un valor predeterminado. Llame a su función para tres ciudades diferentes, al menos una de las cuales no se encuentra en el país predeterminado.\n",
        "\n"
      ],
      "metadata": {
        "id": "G0qpoz40uBJt"
      }
    },
    {
      "cell_type": "code",
      "source": [
        "def describe_city(name_city,name_country='Perú'):\n",
        "  print(f\"{name_city.title()} esta en {name_country.title()}\")\n",
        "\n",
        "describe_city('Quito','Ecuador')\n",
        "describe_city('Buenos Aires','Argentina')\n",
        "describe_city('Asuncion')"
      ],
      "metadata": {
        "id": "AqN7IDDW0xfB"
      },
      "execution_count": null,
      "outputs": []
    },
    {
      "cell_type": "markdown",
      "source": [
        "# 4. Usando funciones con loops while"
      ],
      "metadata": {
        "id": "tSAkV-as0rdS"
      }
    },
    {
      "cell_type": "markdown",
      "source": [
        "\n",
        "<b> Ejercicio 1</b>\n",
        "\n",
        "Escribe una función llamada **city_country()** que tome el nombre de una ciudad y su país. La función debería devolver una cadena con el formato siguiente:\n",
        "\n",
        "\"Santiago, Chile\"\n",
        "\n",
        "Llame a su función con al menos tres pares de ciudades y países e imprima los valores que se devuelven.\n"
      ],
      "metadata": {
        "id": "WtFtOrbS4BzE"
      }
    },
    {
      "cell_type": "code",
      "source": [
        "def city_country(ciudades, paises):\n",
        "   \"\"\" retorna paises y ciudades\"\"\"\n",
        "   full_city = f\" {ciudades}, {paises} \"\n",
        "   return full_city.title()\n",
        "\n",
        "while True:\n",
        "   print(\"Escriba quit si desea salir\")\n",
        "\n",
        "   f_ciudades = input(\"Ciudad: \")\n",
        "   if f_ciudades =='quit':\n",
        "       break\n",
        "\n",
        "   f_paises = input(\"Pais: \")\n",
        "   if f_paises == 'quit':\n",
        "       break\n",
        "   city_completed = city_country(f_ciudades, f_paises)\n",
        "   print(f\"{city_completed}\")"
      ],
      "metadata": {
        "id": "kLK25Cd317bb"
      },
      "execution_count": null,
      "outputs": []
    },
    {
      "cell_type": "markdown",
      "source": [
        "\n",
        "\n",
        "<b> Ejercicio 2</b>\n",
        "\n",
        "Escriba una función llamada **make_album()** que cree un diccionario que describa un álbum de música. La función debe tomar el nombre de un artista y el título de un álbum, y debe devolver un diccionario que contenga estos dos datos. Utilice la función para crear tres diccionarios que representen diferentes álbumes. Imprima cada valor devuelto para mostrar que los diccionarios están almacenando la información del álbum correctamente.\n",
        "\n",
        "Use <b>None</b> para agregar un parámetro opcional a **make_album()** que le permita almacenar la cantidad de canciones en un álbum. Si la línea de llamada incluye un valor para la cantidad de canciones, agregue ese valor al diccionario del álbum. Realice al menos una nueva llamada de función que incluya la cantidad de canciones en un álbum."
      ],
      "metadata": {
        "id": "z06Pz7sy4YG0"
      }
    },
    {
      "cell_type": "code",
      "source": [
        "\n",
        "def make_album(name_artist,album_title,songs = None):\n",
        "    album = {'name_artist': name_artist, 'album_title': album_title}\n",
        "    if songs:\n",
        "        album['songs'] = songs\n",
        "    return album\n",
        "\n",
        "\n",
        "album_de_musica_1 = make_album('Kiss','Lick It Up',9)\n",
        "album_de_musica_2 = make_album('The Beatles','Revolver',12)\n",
        "album_de_musica_3 = make_album('John Lennon',\"Rock n' Roll\")\n",
        "\n",
        "print(album_de_musica_1)\n",
        "print(album_de_musica_2)\n",
        "print(album_de_musica_3)\n",
        "\n",
        "\n",
        "\n",
        "\n"
      ],
      "metadata": {
        "id": "sF2_yb-g24S_"
      },
      "execution_count": null,
      "outputs": []
    },
    {
      "cell_type": "markdown",
      "source": [
        "\n",
        "\n",
        "<b> Ejercicio 3</b>\n",
        "\n",
        "Comience con su programa del ejercicio anterior. Escriba un ciclo while que permita a los usuarios ingresar el artista y el título de un álbum. Una vez que tenga esa información, llame a **make_album()** con la entrada del usuario e imprima el diccionario que se crea. Asegúrese de incluir un valor de salida en el ciclo while.\n"
      ],
      "metadata": {
        "id": "5iazrd6w5n-m"
      }
    },
    {
      "cell_type": "code",
      "source": [
        "while True:\n",
        "  nombre = input(\"Ingrese el nombre del artista: \")\n",
        "  if nombre==\"salir\":\n",
        "    break\n",
        "  album = input(\"Ingrese el album del artista: \")\n",
        "  if album==\"salir\":\n",
        "    break\n",
        "  diccionario = make_album(nombre,album)\n",
        "  print(diccionario)"
      ],
      "metadata": {
        "id": "6FbdfNVhD-uD"
      },
      "execution_count": null,
      "outputs": []
    },
    {
      "cell_type": "markdown",
      "source": [
        "# 5. Usando Listas"
      ],
      "metadata": {
        "id": "pdvnfTPo6-Lq"
      }
    },
    {
      "cell_type": "markdown",
      "source": [
        "\n",
        "\n",
        "<b> Ejercicio 1</b>\n",
        "\n",
        "Haz una lista que contenga una serie de mensajes de texto cortos. Pase la lista a una función llamada **show_messages()**, que imprime cada mensaje de texto.\n"
      ],
      "metadata": {
        "id": "AxoQ8UkPLzhr"
      }
    },
    {
      "cell_type": "code",
      "source": [
        "def show_messages(messages):\n",
        "  for message in messages:\n",
        "    print(f'\\n{message}')\n",
        "\n",
        "show_messages(['mensaje 1','mensaje 2','mensaje 3'])"
      ],
      "metadata": {
        "id": "bmCnvNw7APbp"
      },
      "execution_count": null,
      "outputs": []
    },
    {
      "cell_type": "markdown",
      "source": [
        "---\n",
        "\n",
        "<b> Ejercicio 2</b>\n",
        "\n",
        "Comience con una copia de su programa del Ejercicio anterior. Escriba una función llamada **send_messages()** que imprima cada mensaje de texto y mueva cada mensaje a una nueva lista llamada sent_messages a medida que se imprime. Después de llamar a la función, imprima ambas listas para asegurarse de que los mensajes se movieron correctamente."
      ],
      "metadata": {
        "id": "cr6vkbj-L_4Q"
      }
    },
    {
      "cell_type": "code",
      "source": [
        "def show_messages(lista):\n",
        "  for mensaje in lista:\n",
        "    print(mensaje)\n",
        "\n",
        "def send_messages(lista,nueva_lista):\n",
        "  for mensaje in lista:\n",
        "    nueva_lista.append(mensaje)\n",
        "lista_mensajes = ['Texto 1','Texto 2','Texto 3']\n",
        "sent_messages = []\n",
        "send_messages(lista_mensajes,sent_messages)\n",
        "print(\"_Lista anterior\")\n",
        "show_messages(lista_mensajes)\n",
        "print(\"_Nueva lista\")\n",
        "show_messages(sent_messages)\n",
        "\n"
      ],
      "metadata": {
        "id": "wxVaRsJoA0vP"
      },
      "execution_count": null,
      "outputs": []
    },
    {
      "cell_type": "markdown",
      "source": [
        "---\n",
        "\n",
        "<b> Ejercicio 3</b>\n",
        "\n",
        "Comience con su trabajo del Ejercicio anterior. Llame a la función **send_messages()** con una copia de la lista de mensajes. Después de llamar a la función, imprima ambas listas para mostrar que la lista original ha conservado sus mensajes.\n",
        "\n",
        "---"
      ],
      "metadata": {
        "id": "DeKTopX9McDP"
      }
    },
    {
      "cell_type": "code",
      "source": [
        "copia_lista_mensajes = ['Texto 1','Texto 2','Texto 3']\n",
        "\n",
        "send_messages(lista_mensajes,copia_lista_mensajes)\n",
        "print(\"_Lista anterior\")\n",
        "show_messages(lista_mensajes)\n",
        "print(\"_Nueva lista\")\n",
        "show_messages(copia_lista_mensajes)\n"
      ],
      "metadata": {
        "id": "BM4SwAULT4rm"
      },
      "execution_count": null,
      "outputs": []
    },
    {
      "cell_type": "markdown",
      "source": [
        "# 6. Pasar un número arbitrario de argumentos"
      ],
      "metadata": {
        "id": "Wnme938ANSqz"
      }
    },
    {
      "cell_type": "markdown",
      "source": [
        "---\n",
        "\n",
        "<b> Ejercicio 1</b>\n",
        "\n",
        "Escribe una función que acepte una lista de artículos que una persona quiere en un sándwich. La función debe tener un parámetro que recopile tantos elementos como proporcione la llamada a la función, y debe imprimir un resumen del sándwich que se está ordenando. Llame a la función tres veces, usando un número diferente de argumentos cada vez."
      ],
      "metadata": {
        "id": "0kYhXVPvQSh_"
      }
    },
    {
      "cell_type": "code",
      "source": [
        "def make_sandwich(*toppings):\n",
        "  print('\\nLa pizza contiene los siguientes toppings:')\n",
        "  for topping in toppings:\n",
        "    print(f'- {topping}')  \n",
        "\n",
        "make_sandwich('Queso', 'Doble jamón', 'papas')\n"
      ],
      "metadata": {
        "id": "1lvqtrlMWP3l"
      },
      "execution_count": null,
      "outputs": []
    },
    {
      "cell_type": "markdown",
      "source": [
        "\n",
        "\n",
        "<b> Ejercicio 2</b>\n",
        "\n",
        "Comience con una copia de **user_profile** de ***Uso de argumentos de palabras clave arbitrarias***. Cree un perfil de usted mismo llamando a **build_profile()**, usando su nombre y apellido y otros tres pares clave-valor que lo describan."
      ],
      "metadata": {
        "id": "NXvPqgVZQcx9"
      }
    },
    {
      "cell_type": "code",
      "source": [
        "def build_profile(first, last, **user_info):\n",
        "    user_info['first_name'] = first\n",
        "    user_info['last_name'] = last\n",
        "    return user_info\n",
        "\n",
        "user_profile = build_profile('Cristian', 'Daga',edad=22,estatura=1.68,pais='Perú')\n",
        "print(user_profile)"
      ],
      "metadata": {
        "colab": {
          "base_uri": "https://localhost:8080/"
        },
        "id": "afj6wCheYRhq",
        "outputId": "dbd3f35c-0cc7-458d-98c2-2267b05bf98d"
      },
      "execution_count": null,
      "outputs": [
        {
          "output_type": "stream",
          "name": "stdout",
          "text": [
            "{'edad': 22, 'estatura': 1.68, 'pais': 'Perú', 'first_name': 'Cristian', 'last_name': 'Daga'}\n"
          ]
        }
      ]
    },
    {
      "cell_type": "markdown",
      "source": [
        "---\n",
        "\n",
        "<b> Ejercicio 3</b>\n",
        "\n",
        "Escribe una función que almacene información sobre un automóvil en un diccionario. La función siempre debe recibir un fabricante y un nombre de modelo. Entonces debería aceptar un número arbitrario de argumentos de palabras clave. Llame a la función con la información requerida y otros dos pares de nombre y valor, como un color o una función opcional. Su función debería funcionar para una llamada como esta:\n",
        "\n",
        "coche = **make_car**('subaru', 'outback', color='blue', tow_package=True)\n",
        "\n",
        "Imprima el diccionario que se devuelve para asegurarse de que toda la información se almacenó correctamente.\n",
        "\n",
        "---"
      ],
      "metadata": {
        "id": "gpj7y6NYQjLq"
      }
    },
    {
      "cell_type": "code",
      "source": [
        "def auto(fabricante,modelo,**info_auto):\n",
        "  info_auto['fabricante']= fabricante\n",
        "  info_auto['modelo']= modelo\n",
        "  return info_auto\n",
        "\n",
        "mi_auto= auto('Suzuki','Vitara Live 2020',color='black',lunas_polarizadas= True) \n",
        "print(mi_auto)"
      ],
      "metadata": {
        "colab": {
          "base_uri": "https://localhost:8080/"
        },
        "id": "uZAmwSxZZdw3",
        "outputId": "85148a12-eb71-4a32-d387-ad7b0f947160"
      },
      "execution_count": null,
      "outputs": [
        {
          "output_type": "stream",
          "name": "stdout",
          "text": [
            "{'color': 'black', 'lunas_polarizadas': True, 'fabricante': 'Suzuki', 'modelo': 'Vitara Live 2020'}\n"
          ]
        }
      ]
    },
    {
      "cell_type": "markdown",
      "source": [
        "# 8. Introducción a Clases"
      ],
      "metadata": {
        "id": "zl5-pV1XfXi1"
      }
    },
    {
      "cell_type": "markdown",
      "source": [
        "---\n",
        "\n",
        "<b> Ejercicio 1</b>\n",
        "\n",
        "Haz una clase llamada Restaurante. El método __init__() para Restaurante debe almacenar dos atributos: un nombre_restaurante y un tipo_cocina. Cree un método llamado describe_restaurant() que imprima estos dos datos y un método llamado open_restaurant() que imprima un mensaje que indique que el restaurante está abierto.\n",
        "\n",
        "Cree una instancia llamada restaurante de su clase. Imprima los dos atributos individualmente y luego llame a ambos métodos."
      ],
      "metadata": {
        "id": "kp8q0QVDgqkZ"
      }
    },
    {
      "cell_type": "code",
      "source": [
        "class Restaurante:\n",
        "    def __init__(self, nombre_restaurante, tipo_cocina):\n",
        "        self.nombre_restaurante = nombre_restaurante\n",
        "        self.tipo_cocina = tipo_cocina\n",
        "\n",
        "    def describe_restaurant(self):\n",
        "        print(f'{self.nombre_restaurante}, {self.tipo_cocina}')\n",
        "\n",
        "    def open_restaurant(self):\n",
        "        print('El restaurante esta abierto')\n",
        "\n",
        "my_rest = Restaurante('Gaston Acurio', 'Criolla')\n",
        "my_rest.nombre_restaurante\n",
        "my_rest.describe_restaurant()\n",
        "my_rest.open_restaurant()\n"
      ],
      "metadata": {
        "colab": {
          "base_uri": "https://localhost:8080/"
        },
        "id": "pBpesz4cc-K-",
        "outputId": "1288b948-8b5d-4d1b-e9f2-a8cf5f98f14a"
      },
      "execution_count": null,
      "outputs": [
        {
          "output_type": "stream",
          "name": "stdout",
          "text": [
            "Gaston Acurio, Criolla\n",
            "El restaurante esta abierto\n"
          ]
        }
      ]
    },
    {
      "cell_type": "markdown",
      "source": [
        "---\n",
        "\n",
        "<b> Ejercicio 2</b>\n",
        "\n",
        "Comience con su clase del Ejercicio anterior. Cree tres instancias diferentes de la clase y llame a **describe_restaurant**() para cada instancia."
      ],
      "metadata": {
        "id": "uD1V4MnYgxO2"
      }
    },
    {
      "cell_type": "code",
      "source": [
        "my_rest1 = Restaurante('Gaston Acurio', 'Criolla')\n",
        "my_rest2 = Restaurante('Señor Limon', 'Marina')\n",
        "my_rest3 = Restaurante('Charrua', 'Carnes')\n",
        "\n",
        "\n",
        "my_rest1.describe_restaurant()\n",
        "my_rest2.describe_restaurant() "
      ],
      "metadata": {
        "colab": {
          "base_uri": "https://localhost:8080/"
        },
        "id": "8tCkVFLWdfbO",
        "outputId": "96736a8d-6b7d-41a9-8bfa-bb945f8f4c61"
      },
      "execution_count": null,
      "outputs": [
        {
          "output_type": "stream",
          "name": "stdout",
          "text": [
            "Gaston Acurio, Criolla\n",
            "Señor Limon, Marina\n"
          ]
        }
      ]
    },
    {
      "cell_type": "markdown",
      "source": [
        "---\n",
        "\n",
        "<b> Ejercicio 3</b>\n",
        "\n",
        "Haz una clase llamada Usuario. Cree dos atributos llamados **first_name** y **last_name**, y luego cree varios otros atributos que normalmente se almacenan en un perfil de usuario. Cree un método llamado **describe_user**() que imprima un resumen de la información del usuario. Cree otro método llamado **greeting_user**() que imprima un saludo personalizado para el usuario.\n",
        "\n",
        "Cree varias instancias que representen a diferentes usuarios y llame a ambos métodos para cada usuario.\n",
        "\n",
        "---"
      ],
      "metadata": {
        "id": "PlqVFUueg2QI"
      }
    },
    {
      "cell_type": "code",
      "source": [
        "class Usuario:\n",
        "  def __init__(self,first_name,last_name,edad,fecha_nacimiento):\n",
        "    self.first_name = first_name\n",
        "    self.last_name = last_name\n",
        "    self.edad = edad\n",
        "    self.fecha_nacimiento = fecha_nacimiento\n",
        "  def describe_user(self):\n",
        "    print(\"Informacion del Usuario:\")\n",
        "    print(f\"Nombres: {self.first_name}\")\n",
        "    print(f\"Apellidos: {self.last_name}\")\n",
        "    print(f\"Edad: {self.edad}\")\n",
        "    print(f\"Fecha de nacimiento: {self.fecha_nacimiento}\")\n",
        "  def greeting_user(self):\n",
        "    print(f\"Bienvenido {self.first_name} {self.last_name}\")\n",
        "\n",
        "usuario1 = Usuario(\"Cristian Eduardo\",\"Daga Quispe\",\"22\",'13/04/2000')\n",
        "usuario2 = Usuario(\"Dihogo Agustin\",\"Daga Quispe\",\"18\",'02/04/2004')\n",
        "usuario1.describe_user()\n",
        "usuario1.greeting_user()\n",
        "\n",
        "usuario2.describe_user()\n",
        "usuario2.greeting_user()"
      ],
      "metadata": {
        "id": "2-vShn29dtQW"
      },
      "execution_count": null,
      "outputs": []
    },
    {
      "cell_type": "markdown",
      "source": [
        "<h1 align=center><font size = 5>UNIDAD IV - ESTRUCTURAS DE DATOS\n",
        "</font></h1>\n",
        "\n",
        "---"
      ],
      "metadata": {
        "id": "4p5vLlhHyXK5"
      }
    },
    {
      "cell_type": "markdown",
      "source": [
        "\n",
        "\n",
        "<b> Ejercicio 1</b>\n",
        "\n",
        "use un bucle **for** para imprimir los números del 1 al 20, inclusive.\n"
      ],
      "metadata": {
        "id": "v8l2iiax3w6L"
      }
    },
    {
      "cell_type": "code",
      "source": [
        "result = [value for value in range(1,21)]\n",
        "print(result)"
      ],
      "metadata": {
        "id": "_el-xFRVf61K"
      },
      "execution_count": null,
      "outputs": []
    },
    {
      "cell_type": "markdown",
      "source": [
        "---\n",
        "\n",
        "<b> Ejercicio 2</b>\n",
        "\n",
        "Haga una lista de los números del uno al millón y luego use un ciclo for para imprimir los números. (Si la salida tarda demasiado, deténgala presionando CTRL-C o cerrando la ventana de salida).\n"
      ],
      "metadata": {
        "id": "rYzzJUd64HR1"
      }
    },
    {
      "cell_type": "code",
      "source": [
        "lista = list(range(1,1000001))\n",
        "for val in lista:\n",
        "  print(val)\n"
      ],
      "metadata": {
        "id": "yWD3VxsOgCoB"
      },
      "execution_count": null,
      "outputs": []
    },
    {
      "cell_type": "markdown",
      "source": [
        "---\n",
        "\n",
        "<b> Ejercicio 3</b>\n",
        "\n",
        "Haga una lista de los números del uno al millón y luego use min() y max() para asegurarse de que su lista realmente comience en uno y termine en un millón. Además, use la función sum() para ver qué tan rápido Python puede agregar un millón de números.\n"
      ],
      "metadata": {
        "id": "2qrKdPpb4chR"
      }
    },
    {
      "cell_type": "code",
      "source": [
        "numeros = list(range(1,1000001))\n",
        "\n",
        "min(numeros)\n",
        "max(numeros)\n",
        "sum(numeros)"
      ],
      "metadata": {
        "id": "tjyRONkOgMbO"
      },
      "execution_count": null,
      "outputs": []
    },
    {
      "cell_type": "markdown",
      "source": [
        "---\n",
        "\n",
        "<b> Ejercicio 4</b>\n",
        "\n",
        "Use el tercer argumento de la función range() para hacer una lista de los números impares del 1 al 20. Use un bucle for para imprimir cada número.\n"
      ],
      "metadata": {
        "id": "oizdiWqQ44qx"
      }
    },
    {
      "cell_type": "code",
      "source": [
        "numeros = list(range(1,21,2))\n",
        "for num in numeros:\n",
        "  print(num)"
      ],
      "metadata": {
        "id": "9DGCE6wVgscV"
      },
      "execution_count": null,
      "outputs": []
    },
    {
      "cell_type": "markdown",
      "source": [
        "---\n",
        "\n",
        "<b> Ejercicio 5</b>\n",
        "\n",
        "Haga una lista de los múltiplos de 3 de 3 a 30. Use un ciclo for para imprimir los números en su lista.\n"
      ],
      "metadata": {
        "id": "yK9dmJJi5W6W"
      }
    },
    {
      "cell_type": "code",
      "source": [
        "for i in range(1,31):\n",
        "  if i%3==0:\n",
        "    print(i)\n",
        "  else:\n",
        "    continue"
      ],
      "metadata": {
        "id": "uBCxZMQfg73b"
      },
      "execution_count": null,
      "outputs": []
    },
    {
      "cell_type": "markdown",
      "source": [
        "---\n",
        "\n",
        "<b> Ejercicio 6</b>\n",
        "\n",
        "Haga una lista de los primeros 10 cubos (es decir, el cubo de cada número entero del 1 al 10) y use un ciclo for para imprimir el valor de cada cubo.\n"
      ],
      "metadata": {
        "id": "qqdPT25k5d23"
      }
    },
    {
      "cell_type": "code",
      "source": [
        "for cub in range(1,11):\n",
        "  print(cub**3)"
      ],
      "metadata": {
        "id": "uiQd6X4UhCIn"
      },
      "execution_count": null,
      "outputs": []
    },
    {
      "cell_type": "markdown",
      "source": [
        "---\n",
        "\n",
        "<b> Ejercicio 7</b>\n",
        "\n",
        "Use una lista de comprensión para generar una lista de los primeros 10 cubos.\n",
        "\n",
        "---"
      ],
      "metadata": {
        "id": "MQfhaTOo59GS"
      }
    },
    {
      "cell_type": "code",
      "source": [
        "num = [value**3 for value in range(1, 11)]\n",
        "print(num)"
      ],
      "metadata": {
        "id": "WnzuP8wQhHJ3"
      },
      "execution_count": null,
      "outputs": []
    },
    {
      "cell_type": "markdown",
      "source": [
        "### Copiando una lista"
      ],
      "metadata": {
        "id": "jsCWYHQC8Faa"
      }
    },
    {
      "cell_type": "markdown",
      "source": [
        "---\n",
        "\n",
        "<b> Ejercicio 1</b>\n",
        "\n",
        "Utilizando alguna lista definida anteriormente:\n",
        "\n",
        "*   Imprima el mensaje **Los tres primeros elementos de la lista son:**. Luego use un slice para imprimir los primeros tres elementos de la lista de ese programa.\n",
        "\n",
        "*   Imprima el mensaje **Tres elementos de la mitad de la lista son:**. Use un slice para imprimir tres elementos del medio de la lista.\n",
        "\n",
        "*   Imprima el mensaje **Los últimos tres elementos de la lista son:**. Utilice un slice para imprimir los últimos tres elementos de la lista."
      ],
      "metadata": {
        "id": "H30p04iC93Ma"
      }
    },
    {
      "cell_type": "code",
      "source": [
        "my_foods = ['pizza', 'falafel', 'carrot cake']\n",
        "print(f\"Los tres primeros elemenos de la lista son :\\n\\t{my_foods[0:3]}\")\n",
        "print(f\"El elementos de la mitad de la lista es :\\n\\t{my_foods[1:-1]}\")"
      ],
      "metadata": {
        "id": "TwAxzDZvh1mm"
      },
      "execution_count": null,
      "outputs": []
    },
    {
      "cell_type": "markdown",
      "source": [
        "---\n",
        "\n",
        "<b> Ejercicio 2</b>\n",
        "\n",
        "Haga una copia de la lista de pizzas y llámela friend_pizzas. Luego, haz lo siguiente:\n",
        "\n",
        "* Agregue una nueva pizza a la lista original.\n",
        "* Agrega una pizza diferente a la lista friend_pizzas.\n",
        "* Demuestra que tienes dos listas separadas. Imprima el mensaje Mis pizzas favoritas son: y luego use un bucle for para imprimir la primera lista. Imprima el mensaje Las pizzas favoritas de mi amigo son: y luego use un bucle for para imprimir la segunda lista. Asegúrese de que cada pizza nueva se almacene en la lista adecuada."
      ],
      "metadata": {
        "id": "0SzOQQ7S_s1U"
      }
    },
    {
      "cell_type": "code",
      "source": [
        "pizzas = ['peperoni','americana','vegetariana','hawaiana','cuatro quesos']\n",
        "friend_pizzas = pizzas[:]\n",
        "\n",
        "pizzas.append('champiñones')\n",
        "\n",
        "print(pizzas)\n",
        "print(friend_pizzas)\n",
        "\n",
        "print(\"Mis pizzas favoritas son:\")\n",
        "for fav_pizzas in pizzas:\n",
        "  print(f\"-{fav_pizzas}\")\n",
        "\n",
        "print(\"Las pizzas favoritas de mi amigo son:\")\n",
        "for fav_friend_pizzas in friend_pizzas:\n",
        "  print(f\"-{fav_friend_pizzas}\")"
      ],
      "metadata": {
        "id": "cy4rtorzie81"
      },
      "execution_count": null,
      "outputs": []
    },
    {
      "cell_type": "markdown",
      "source": [
        "# 3. Tuplas"
      ],
      "metadata": {
        "id": "qXYwCDghBHAx"
      }
    },
    {
      "cell_type": "markdown",
      "source": [
        "---\n",
        "\n",
        "<b> Ejercicio 1</b>\n",
        "\n",
        "Un restaurante estilo buffet ofrece solo cinco alimentos básicos. Piense en cinco alimentos simples y guárdelos en una tupla.\n",
        "\n",
        "* Use un bucle for para imprimir cada comida que ofrece el restaurante.\n",
        "Intente modificar uno de los elementos y asegúrese de que Python rechace el cambio.\n",
        "* El restaurante cambia su menú, reemplazando dos de los artículos con comidas diferentes. Agregue una línea que reescriba la tupla y luego use un ciclo for para imprimir cada uno de los elementos en el menú revisado.\n",
        "\n",
        "---"
      ],
      "metadata": {
        "id": "WHk9FL9lDtBY"
      }
    },
    {
      "cell_type": "code",
      "source": [
        "#Primera Tupla\n",
        "alimentos = (\"Tallarines\",\"Lomo Saltado\",\"Ceviche\",\"Pollo al Horno\",\"Arroz con Pollo\")\n",
        "for alimento in alimentos:\n",
        "  print(alimento)\n",
        "#Segunda Tupla\n",
        "alimentos = (\"Tallarines\",\"Lomo Saltado\",\"Ceviche\",\"Postre I\",\"Postre II\")\n",
        "for alimento in alimentos:\n",
        "  print(alimento)"
      ],
      "metadata": {
        "id": "1FdvLI9znPDv"
      },
      "execution_count": null,
      "outputs": []
    },
    {
      "cell_type": "markdown",
      "source": [
        "# 4. Diccionarios"
      ],
      "metadata": {
        "id": "BZTa7B8LFrIG"
      }
    },
    {
      "cell_type": "markdown",
      "source": [
        "---\n",
        "\n",
        "<b> Ejercicio 1</b>\n",
        "\n",
        "Usa un diccionario para almacenar información sobre una persona que conoces. Almacene su nombre, apellido, edad y la ciudad en la que vive. Debe tener claves como nombre, apellido, edad y ciudad. Imprima cada parte de información almacenada en su diccionario.\n",
        "\n"
      ],
      "metadata": {
        "id": "ctXa-OLlQaXn"
      }
    },
    {
      "cell_type": "code",
      "source": [
        "person = {'nombre': 'Cristian ','apellido':'Daga','edad':22,'ciudad':'Lima'}\n",
        "print(f\"El nombre de la persona es: {person.get('nombre')}\")\n",
        "print(f\"El apellido de la persona es: {person.get('apellido')}\")\n",
        "print(f\"La edad de la persona es: {person.get('edad')}\")\n",
        "print(f\"La ciudad donde vive la persona es: {person.get('ciudad')}\")"
      ],
      "metadata": {
        "colab": {
          "base_uri": "https://localhost:8080/"
        },
        "id": "JKj15yvfoOin",
        "outputId": "da07380b-c073-4483-fd5d-17050e137c1b"
      },
      "execution_count": null,
      "outputs": [
        {
          "output_type": "stream",
          "name": "stdout",
          "text": [
            "El nombre de la persona es: Cristian \n",
            "El apellido de la persona es: Daga\n",
            "La edad de la persona es: 22\n",
            "La ciudad donde vive la persona es: Lima\n"
          ]
        }
      ]
    },
    {
      "cell_type": "markdown",
      "source": [
        "---\n",
        "\n",
        "<b> Ejercicio 2</b>\n",
        "\n",
        "Use un diccionario para almacenar los números favoritos de las personas. Piensa en cinco nombres y utilízalos como llaves en tu diccionario. Piense en un número favorito para cada persona y guárdelo como un valor en su diccionario. Escriba el nombre de cada persona y su número favorito. \n",
        "\n"
      ],
      "metadata": {
        "id": "7_krS5iiQ7KW"
      }
    },
    {
      "cell_type": "code",
      "source": [
        "favorites_number = {'Cristian':4,'Dihogo':2,'Marisol':20,'Agustin':27,'Esthephany':28}\n",
        "for key,val in favorites_number.items():\n",
        "  print(f\"El número favorito de {key} es {val}\")"
      ],
      "metadata": {
        "id": "8ryCQgYxzz06"
      },
      "execution_count": null,
      "outputs": []
    },
    {
      "cell_type": "markdown",
      "source": [
        "---\n",
        "\n",
        "<b> Ejercicio 3</b>\n",
        "\n",
        "Piense en cinco palabras de programación que haya aprendido. Utilice estas palabras como llaves en su glosario y almacene sus significados como valores.\n",
        "\n",
        "Imprima cada palabra y su significado como una salida con un formato ordenado. Puede imprimir la palabra seguida de dos puntos y luego su significado, o imprimir la palabra en una línea y luego imprimir su significado con sangría en una segunda línea. Utilice el carácter de nueva línea (\\n) para insertar una línea en blanco entre cada par de palabra y significado en su salida.\n",
        "\n",
        "---"
      ],
      "metadata": {
        "id": "PmMzWA-nVOOi"
      }
    },
    {
      "cell_type": "code",
      "source": [
        "palabra_programacion = {\n",
        "    'input':'Es una función que nos ayuda a hacer que el usuario pueda colocar datos',\n",
        "    'tupla':'Una tupla es una colección de datos',\n",
        "    'list':'La list es usada para almacenar varios datos',\n",
        "    'class':'La clase es un modelo que almacena atributos y métodos ',\n",
        "    'function':'La función es un bloque de código que funciona cuando es llamado',\n",
        "\n",
        "}\n",
        "for key,val in palabra_programacion.items():\n",
        "  print(f\"{key.title()}:\\n{val}\")"
      ],
      "metadata": {
        "id": "pPjlTkVg0LYT"
      },
      "execution_count": null,
      "outputs": []
    },
    {
      "cell_type": "markdown",
      "source": [
        "### Loops con diccionarios"
      ],
      "metadata": {
        "id": "xHZwF4EJVuP7"
      }
    },
    {
      "cell_type": "markdown",
      "source": [
        "---\n",
        "\n",
        "<b> Ejercicio 1</b>\n",
        "\n",
        "Haga un diccionario que contenga tres ríos principales y el país por el que pasa cada río. Un par clave-valor podría ser 'nilo': 'egipto'.\n",
        "\n",
        "* Use un bucle para imprimir una oración sobre cada río, como El Nilo atraviesa Egipto.\n",
        "* Utilice un bucle para imprimir el nombre de cada río incluido en el diccionario.\n",
        "* Use un bucle para imprimir el nombre de cada país incluido en el diccionario.\n"
      ],
      "metadata": {
        "id": "Ov6u5MxIj2WA"
      }
    },
    {
      "cell_type": "code",
      "source": [
        "rios = {'Nilo':'Egipto','Amazonas':'Perú','Mississippi':'EE.UU'}\n",
        "for key,value in rios.items():\n",
        "  print(f\"El rio {key} atraviesa {value}\")\n",
        "\n",
        "print(f\"\\nNombre de los Rios en el diccionario: \")\n",
        "for key in sorted(rios.keys()):\n",
        "  print(f\"{key}\")\n",
        "\n",
        "print(f\"\\nNombre de los Paises en el diccionario: \")\n",
        "for key,value in rios.items():\n",
        "  print(f\"{value}\")\n"
      ],
      "metadata": {
        "id": "qqvhZ6Bnor8w"
      },
      "execution_count": null,
      "outputs": []
    },
    {
      "cell_type": "markdown",
      "source": [
        "---\n",
        "\n",
        "<b> Ejercicio 2</b>\n",
        "\n",
        "Haz una lista de las personas que deberían participar en la encuesta de idiomas favoritos. Incluye algunos nombres que ya estén en el diccionario y otros que no.\n",
        "Recorra la lista de personas que deberían realizar la encuesta. Si ya han realizado la encuesta, imprima un mensaje agradeciéndoles por responder. Si aún no han realizado la encuesta, imprima un mensaje invitándoles a realizar la encuesta.\n",
        "\n",
        "---"
      ],
      "metadata": {
        "id": "aSr26WfmkSSv"
      }
    },
    {
      "cell_type": "code",
      "source": [
        "persons = ['Agustin','Marisol','Dihogo','Josimar']\n",
        "poll = {'Dihogo':'yes'}\n",
        "for person in persons:\n",
        "  if poll.get(person)=='yes':\n",
        "    print(f\"{person}, completo la encuesta. Muchas gracias!\")\n",
        "  else:\n",
        "    print(f\"{person}, le invitamos a responder la encuesta lo mas pronto posible.\")"
      ],
      "metadata": {
        "colab": {
          "base_uri": "https://localhost:8080/"
        },
        "id": "eAy5_Pny5wHS",
        "outputId": "26acb4c8-257e-462c-f87d-9813316d8750"
      },
      "execution_count": null,
      "outputs": [
        {
          "output_type": "stream",
          "name": "stdout",
          "text": [
            "Agustin, le invitamos a responder la encuesta lo mas pronto posible.\n",
            "Marisol, le invitamos a responder la encuesta lo mas pronto posible.\n",
            "Dihogo, completo la encuesta. Muchas gracias!\n",
            "Josimar, le invitamos a responder la encuesta lo mas pronto posible.\n"
          ]
        }
      ]
    },
    {
      "cell_type": "markdown",
      "source": [
        "### Una lista en un diccionario"
      ],
      "metadata": {
        "id": "QxqRr3DnwjxK"
      }
    },
    {
      "cell_type": "markdown",
      "source": [
        "---\n",
        "\n",
        "<b> Ejercicio 1</b>\n",
        "\n",
        "Cree tres nuevos diccionarios que representen a diferentes personas y almacene los tres diccionarios en una lista llamada personas. Recorra su lista de personas. Mientras recorre la lista, imprima todo lo que sabe sobre cada persona.\n"
      ],
      "metadata": {
        "id": "3JJTjbfhmwks"
      }
    },
    {
      "cell_type": "code",
      "source": [
        "persona_1 = {'nombre':'Cristian','edad':22}\n",
        "persona_2 = {'nombre':'Diego','edad':18}\n",
        "persona_3 = {'nombre':'Marisol','edad':46}\n",
        "\n",
        "personas = [persona_1,persona_2,persona_3]\n",
        "print(personas)\n",
        "for persona in personas:\n",
        "  print(f\"Hola me llamo {persona['nombre']} y tengo {persona['edad']} años.\")"
      ],
      "metadata": {
        "id": "VP_eCW8mwmVo"
      },
      "execution_count": null,
      "outputs": []
    },
    {
      "cell_type": "markdown",
      "source": [
        "---\n",
        "\n",
        "<b> Ejercicio 2</b>\n",
        "\n",
        "Haga varios diccionarios, donde cada diccionario represente una mascota diferente. En cada diccionario, incluya el tipo de animal y el nombre del dueño. Guarde estos diccionarios en una lista llamada mascotas. A continuación, recorra su lista y, mientras lo hace, imprima todo lo que sepa sobre cada mascota."
      ],
      "metadata": {
        "id": "oU2XiQHAnAtB"
      }
    },
    {
      "cell_type": "code",
      "source": [
        "pet1 = {\"animal\":\"caballo\",\"nombre_criador\":\"Dihogo\",\"nombre_pet\":\"Tiro al Blanco\",\"edad\":\"10\"}\n",
        "pet2 = {\"animal\":\"loro\",\"nombre_criador\":\"Agustin\",\"nombre_pet\":\"Paul\",\"edad\":\"2\"}\n",
        "pet3 = {\"animal\":\"mono\",\"nombre_criador\":\"Josimar\",\"nombre_pet\":\"Jack\",\"edad\":\"5\"}\n",
        "pets = [pet1,pet2,pet3]\n",
        "for pet in pets:\n",
        "  print()\n",
        "  for key,val in pet.items():\n",
        "    print(f\"{key.title()}: {val.title()}\")"
      ],
      "metadata": {
        "id": "DFc1MUbn415h"
      },
      "execution_count": null,
      "outputs": []
    },
    {
      "cell_type": "markdown",
      "source": [
        "---\n",
        "\n",
        "<b> Ejercicio 3</b>\n",
        "\n",
        "Haga un diccionario llamado lugares_favoritos. Piense en tres nombres para usar como llaves en el diccionario y almacene de uno a tres lugares favoritos para cada persona. Recorre el diccionario e imprime el nombre de cada persona y sus lugares favoritos."
      ],
      "metadata": {
        "id": "YH2BoPpVnMLu"
      }
    },
    {
      "cell_type": "code",
      "source": [
        "favorite_places={\n",
        "  \"Genesis\":['Tokyo','Corea','Paris'],\n",
        "  \"Aurea\":['Parque El Olivar','Malecón de Miraflores','Parque de la Reserva'],\n",
        "  \"Lizeth\":['Vilcashuamán','Millpu y sus piscinas naturales','Ciudad de Huanta']\n",
        "}\n",
        "\n",
        "\n",
        "for key,val in favorite_places.items():\n",
        "  print(f\"Los lugares favoritos de {key.title()} son:\")\n",
        "  for lugar in val:\n",
        "    print(f\"-{lugar}\")"
      ],
      "metadata": {
        "id": "Zy1rsKeB368K"
      },
      "execution_count": null,
      "outputs": []
    },
    {
      "cell_type": "markdown",
      "source": [
        "---\n",
        "\n",
        "<b> Ejercicio 4</b>\n",
        "\n",
        "Haz un diccionario llamado ciudades. Usa los nombres de tres ciudades como llaves en tu diccionario. Cree un diccionario de información sobre cada ciudad e incluya el país en el que se encuentra la ciudad, su población aproximada y un dato sobre esa ciudad. Las claves para el diccionario de cada ciudad deben ser algo como país, población y hecho. Imprime el nombre de cada ciudad y toda la información que tengas almacenada sobre ella."
      ],
      "metadata": {
        "id": "YjkTHXHWnY-y"
      }
    },
    {
      "cell_type": "code",
      "source": [
        "cities = {\n",
        "        \"Buenos Aires\":{\"pais\":\"Argentina\",\"poblacion\":\"15.625.084 habitantes\",\"dato_curioso\":\"Es la ciudad con más estadios de fútbol en el mundo.\"},\n",
        "        \"Montevideo\":{\"pais\":\"Uruguay\",\"poblacion\":\"3.485.152 habitantes\",\"dato_curioso\":\"Está clasificada como la ciudad latinoamericana con la mejor calidad de vida.\"},\n",
        "        \"Paris\":{\"pais\":\"Francia\",\"poblacion\":\"2.273.250 habitantes\",\"dato_curioso\":\"Se encuentra el estadio del PSG llamado Parque de los Principes\"},\n",
        "        }\n",
        "\n",
        "for key,val in cities.items():\n",
        "  print(f\"Ciudad de {key}:\\n\")\n",
        "\n",
        "  for key1,val1 in val.items():\n",
        "    print(f\"-{key1.title()}: {val1}\")"
      ],
      "metadata": {
        "id": "IILpGSb12P5u"
      },
      "execution_count": null,
      "outputs": []
    },
    {
      "cell_type": "markdown",
      "source": [
        "---\n",
        "\n",
        "<b> Ejercicio 5</b>\n",
        "\n",
        "Ahora estamos trabajando con ejemplos que son lo suficientemente complejos como para que puedan extenderse de varias maneras. Utilice uno de los programas de este laboratorio y amplíelo agregando nuevas claves y valores, cambiando el contexto del programa o mejorando el formato de la salida.\n",
        "\n",
        "---"
      ],
      "metadata": {
        "id": "hMvNIar-nqAr"
      }
    },
    {
      "cell_type": "code",
      "source": [
        "listar = []\n",
        "class trabajadores:\n",
        "  def __init__(self,nombre,apellido,actividad):\n",
        "    self.nombre = nombre\n",
        "    self.apellido = apellido\n",
        "    self.actividad = actividad\n",
        "  def agregar(self,listar):\n",
        "    '''Agregar a los trabajadores al listado'''\n",
        "    listar.append({\n",
        "        \"nombre\":self.nombre,\n",
        "        \"apellido\":self.apellido,\n",
        "        \"actividad\":self.actividad,\n",
        "    })\n",
        "  def listarTrabajadores(self,lista):\n",
        "    '''Lista a los tbabajadores registrados'''\n",
        "    cantidad = 0\n",
        "    for trabajador in lista:\n",
        "      cantidad+=1\n",
        "      print(f\"Trabajador N°{cantidad}\")\n",
        "      print(f\"Nombre y apellido: {trabajador['nombre']} {trabajador['apellido']}\")\n",
        "      print(f\"Realiza la actividad de {trabajador['actividad']}\")\n",
        "\n",
        "while(True):\n",
        "  nombre = input(\"Ingrese el nombre del trabajador: \")\n",
        "  apellido = input(\"Ingrese el apelldio del trabajador: \")\n",
        "  actividad = input(\"Ingrese la actividad del trabajador: \")\n",
        "  classTrabajador = trabajadores(nombre,apellido,actividad)\n",
        "  classTrabajador.agregar(listar)\n",
        "  verificar = input(\"Ingrese listar para mostrar el listado de los trabajadores, en caso de continuar presione Enter \")\n",
        "  if(verificar==\"listar\"):\n",
        "    classTrabajador.listarTrabajadores(listar)\n",
        "    break;"
      ],
      "metadata": {
        "id": "zmncjnW92MGq"
      },
      "execution_count": null,
      "outputs": []
    }
  ]
}